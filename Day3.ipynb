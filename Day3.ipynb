{
 "cells": [
  {
   "cell_type": "markdown",
   "id": "4b775d84",
   "metadata": {},
   "source": [
    "# Selenium 라이브러리\n",
    "- 웹페이지를 자동으로 제어하는 라이브러리"
   ]
  },
  {
   "cell_type": "code",
   "execution_count": 1,
   "id": "1e8ac54a",
   "metadata": {},
   "outputs": [
    {
     "name": "stdout",
     "output_type": "stream",
     "text": [
      "Requirement already satisfied: Selenium in c:\\users\\smhrd\\anaconda3\\lib\\site-packages (4.1.0)\n",
      "Requirement already satisfied: trio~=0.17 in c:\\users\\smhrd\\anaconda3\\lib\\site-packages (from Selenium) (0.19.0)\n",
      "Requirement already satisfied: trio-websocket~=0.9 in c:\\users\\smhrd\\anaconda3\\lib\\site-packages (from Selenium) (0.9.2)\n",
      "Requirement already satisfied: urllib3[secure]~=1.26 in c:\\users\\smhrd\\anaconda3\\lib\\site-packages (from Selenium) (1.26.7)\n",
      "Requirement already satisfied: async-generator>=1.9 in c:\\users\\smhrd\\anaconda3\\lib\\site-packages (from trio~=0.17->Selenium) (1.10)\n",
      "Requirement already satisfied: cffi>=1.14 in c:\\users\\smhrd\\anaconda3\\lib\\site-packages (from trio~=0.17->Selenium) (1.14.6)\n",
      "Requirement already satisfied: idna in c:\\users\\smhrd\\anaconda3\\lib\\site-packages (from trio~=0.17->Selenium) (3.2)\n",
      "Requirement already satisfied: sortedcontainers in c:\\users\\smhrd\\anaconda3\\lib\\site-packages (from trio~=0.17->Selenium) (2.4.0)\n",
      "Requirement already satisfied: outcome in c:\\users\\smhrd\\anaconda3\\lib\\site-packages (from trio~=0.17->Selenium) (1.1.0)\n",
      "Requirement already satisfied: sniffio in c:\\users\\smhrd\\anaconda3\\lib\\site-packages (from trio~=0.17->Selenium) (1.2.0)\n",
      "Requirement already satisfied: attrs>=19.2.0 in c:\\users\\smhrd\\anaconda3\\lib\\site-packages (from trio~=0.17->Selenium) (21.2.0)\n",
      "Requirement already satisfied: pycparser in c:\\users\\smhrd\\anaconda3\\lib\\site-packages (from cffi>=1.14->trio~=0.17->Selenium) (2.20)\n",
      "Requirement already satisfied: wsproto>=0.14 in c:\\users\\smhrd\\anaconda3\\lib\\site-packages (from trio-websocket~=0.9->Selenium) (1.0.0)\n",
      "Requirement already satisfied: pyOpenSSL>=0.14 in c:\\users\\smhrd\\anaconda3\\lib\\site-packages (from urllib3[secure]~=1.26->Selenium) (21.0.0)\n",
      "Requirement already satisfied: cryptography>=1.3.4 in c:\\users\\smhrd\\anaconda3\\lib\\site-packages (from urllib3[secure]~=1.26->Selenium) (3.4.8)\n",
      "Requirement already satisfied: certifi in c:\\users\\smhrd\\anaconda3\\lib\\site-packages (from urllib3[secure]~=1.26->Selenium) (2021.10.8)\n",
      "Requirement already satisfied: six>=1.5.2 in c:\\users\\smhrd\\anaconda3\\lib\\site-packages (from pyOpenSSL>=0.14->urllib3[secure]~=1.26->Selenium) (1.16.0)\n",
      "Requirement already satisfied: h11<1,>=0.9.0 in c:\\users\\smhrd\\anaconda3\\lib\\site-packages (from wsproto>=0.14->trio-websocket~=0.9->Selenium) (0.12.0)\n"
     ]
    }
   ],
   "source": [
    "# 기본으로 내장된 라이브러리가 아니기 때문에 반드시 한 번 설치해야한다!!!!\n",
    "!pip install Selenium"
   ]
  },
  {
   "cell_type": "code",
   "execution_count": 2,
   "id": "9175ff32",
   "metadata": {},
   "outputs": [],
   "source": [
    "# webdriver - 웹을 통제하기 윈한 라이브러리(브라우저 역할)\n",
    "# Keys - 키보드 역할을 해주는 라이브러리\n",
    "from selenium import webdriver as wb\n",
    "from selenium.webdriver.common.keys import Keys"
   ]
  },
  {
   "cell_type": "code",
   "execution_count": 3,
   "id": "dfdd6f3e",
   "metadata": {},
   "outputs": [],
   "source": [
    "# chromedriver 실행 명령\n",
    "driver = wb.Chrome()"
   ]
  },
  {
   "cell_type": "code",
   "execution_count": 4,
   "id": "7dcdf132",
   "metadata": {},
   "outputs": [],
   "source": [
    "# driver에게 naver페이지 요청(원하는 페이지에 정보 요청)\n",
    "driver.get(\"https://www.naver.com\")"
   ]
  },
  {
   "cell_type": "code",
   "execution_count": 5,
   "id": "4b4d2925",
   "metadata": {},
   "outputs": [
    {
     "name": "stderr",
     "output_type": "stream",
     "text": [
      "C:\\Users\\smhrd\\AppData\\Local\\Temp/ipykernel_8928/3091937960.py:2: DeprecationWarning: find_element_by_* commands are deprecated. Please use find_element() instead\n",
      "  search = driver.find_element_by_id(\"query\")\n"
     ]
    }
   ],
   "source": [
    "# 검색창\n",
    "search = driver.find_element_by_id(\"query\")"
   ]
  },
  {
   "cell_type": "code",
   "execution_count": 6,
   "id": "6db7f913",
   "metadata": {},
   "outputs": [],
   "source": [
    "# 검색창에 값 보내기\n",
    "search.send_keys('코로나')"
   ]
  },
  {
   "cell_type": "code",
   "execution_count": 7,
   "id": "f999c188",
   "metadata": {},
   "outputs": [],
   "source": [
    "# enter 입력 해서 검색\n",
    "search.send_keys(Keys.ENTER)"
   ]
  },
  {
   "cell_type": "code",
   "execution_count": 8,
   "id": "a663e0f5",
   "metadata": {},
   "outputs": [],
   "source": [
    "# 페이지 뒤로 가기\n",
    "driver.back()"
   ]
  },
  {
   "cell_type": "code",
   "execution_count": 9,
   "id": "591bba4b",
   "metadata": {},
   "outputs": [
    {
     "name": "stderr",
     "output_type": "stream",
     "text": [
      "C:\\Users\\smhrd\\AppData\\Local\\Temp/ipykernel_8928/3792482228.py:1: DeprecationWarning: find_element_by_* commands are deprecated. Please use find_element() instead\n",
      "  search = driver.find_element_by_id(\"query\")\n"
     ]
    }
   ],
   "source": [
    "search = driver.find_element_by_id(\"query\")"
   ]
  },
  {
   "cell_type": "code",
   "execution_count": 10,
   "id": "77dc53c2",
   "metadata": {},
   "outputs": [],
   "source": [
    "search.send_keys('코로나')"
   ]
  },
  {
   "cell_type": "code",
   "execution_count": 11,
   "id": "a1e59434",
   "metadata": {},
   "outputs": [
    {
     "name": "stderr",
     "output_type": "stream",
     "text": [
      "C:\\Users\\smhrd\\AppData\\Local\\Temp/ipykernel_8928/2258610728.py:2: DeprecationWarning: find_element_by_* commands are deprecated. Please use find_element() instead\n",
      "  btn = driver.find_element_by_id(\"search_btn\")\n"
     ]
    }
   ],
   "source": [
    "# 검색 버튼 찾기\n",
    "btn = driver.find_element_by_id(\"search_btn\")"
   ]
  },
  {
   "cell_type": "code",
   "execution_count": 12,
   "id": "05a19191",
   "metadata": {},
   "outputs": [],
   "source": [
    "# 감섹 버튼 클릭\n",
    "btn.click()"
   ]
  },
  {
   "cell_type": "code",
   "execution_count": 13,
   "id": "68e2e05b",
   "metadata": {},
   "outputs": [],
   "source": [
    "# 창 종료\n",
    "driver.close()"
   ]
  },
  {
   "cell_type": "code",
   "execution_count": 14,
   "id": "31e3873f",
   "metadata": {},
   "outputs": [],
   "source": [
    "# 프로세스 종료\n",
    "driver.quit()"
   ]
  },
  {
   "cell_type": "markdown",
   "id": "b3a91457",
   "metadata": {},
   "source": [
    "# 한솥도시락 사이트 메뉴명,가격명 수집"
   ]
  },
  {
   "cell_type": "code",
   "execution_count": 34,
   "id": "2f060021",
   "metadata": {},
   "outputs": [],
   "source": [
    "# 1. 브라우저 실행\n",
    "driver = wb.Chrome()\n",
    "# 2. URL이동\n",
    "driver.get(\"https://www.hsd.co.kr/menu/menu_list\")"
   ]
  },
  {
   "cell_type": "code",
   "execution_count": 24,
   "id": "c761bb0b",
   "metadata": {
    "scrolled": true
   },
   "outputs": [
    {
     "name": "stderr",
     "output_type": "stream",
     "text": [
      "C:\\Users\\smhrd\\AppData\\Local\\Temp/ipykernel_8928/2799218182.py:1: DeprecationWarning: find_elements_by_* commands are deprecated. Please use find_elements() instead\n",
      "  menu = driver.find_elements_by_css_selector(\"h4.h.fz_03\")\n"
     ]
    },
    {
     "data": {
      "text/plain": [
       "[<selenium.webdriver.remote.webelement.WebElement (session=\"df0ca56dd411fe76af8ee1f596e311d9\", element=\"26180522-45a4-4bc2-8d92-2e345a25aa27\")>,\n",
       " <selenium.webdriver.remote.webelement.WebElement (session=\"df0ca56dd411fe76af8ee1f596e311d9\", element=\"444a30a5-505b-408c-a27d-ccfa41d43f18\")>,\n",
       " <selenium.webdriver.remote.webelement.WebElement (session=\"df0ca56dd411fe76af8ee1f596e311d9\", element=\"a3109f9e-5490-432d-b121-d24cd0354f00\")>,\n",
       " <selenium.webdriver.remote.webelement.WebElement (session=\"df0ca56dd411fe76af8ee1f596e311d9\", element=\"484a2a39-670d-4775-8cfa-59b5f8c21020\")>,\n",
       " <selenium.webdriver.remote.webelement.WebElement (session=\"df0ca56dd411fe76af8ee1f596e311d9\", element=\"dd678666-127c-4d25-8bf9-34dd38437509\")>,\n",
       " <selenium.webdriver.remote.webelement.WebElement (session=\"df0ca56dd411fe76af8ee1f596e311d9\", element=\"6b0bed39-e576-4de3-acbe-93672c3c6fd7\")>,\n",
       " <selenium.webdriver.remote.webelement.WebElement (session=\"df0ca56dd411fe76af8ee1f596e311d9\", element=\"747ff441-18eb-45c8-aecc-1d820e33a96c\")>,\n",
       " <selenium.webdriver.remote.webelement.WebElement (session=\"df0ca56dd411fe76af8ee1f596e311d9\", element=\"f9407e38-a055-4a3d-b6dc-5534f6709f9e\")>]"
      ]
     },
     "execution_count": 24,
     "metadata": {},
     "output_type": "execute_result"
    }
   ],
   "source": [
    "menu = driver.find_elements_by_css_selector(\"h4.h.fz_03\")\n",
    "menu"
   ]
  },
  {
   "cell_type": "code",
   "execution_count": 21,
   "id": "42ca042b",
   "metadata": {},
   "outputs": [
    {
     "data": {
      "text/plain": [
       "['행사 숯불직화구이 덮밥',\n",
       " '행사 제육 김치 부대찌개 정식',\n",
       " '행사 빅치킨마요 김치 부대찌개 정식',\n",
       " '행사 돈까스도련님 고기고기',\n",
       " '행사 동백',\n",
       " '행사 새치 고기고기',\n",
       " '행사 진달래',\n",
       " '행사 스팸 김치볶음밥']"
      ]
     },
     "execution_count": 21,
     "metadata": {},
     "output_type": "execute_result"
    }
   ],
   "source": [
    "menuList = []\n",
    "for i in menu:\n",
    "    menuList.append(i.text)\n",
    "menuList"
   ]
  },
  {
   "cell_type": "code",
   "execution_count": 26,
   "id": "90e57024",
   "metadata": {},
   "outputs": [
    {
     "name": "stderr",
     "output_type": "stream",
     "text": [
      "C:\\Users\\smhrd\\AppData\\Local\\Temp/ipykernel_8928/188103999.py:1: DeprecationWarning: find_elements_by_* commands are deprecated. Please use find_elements() instead\n",
      "  price = driver.find_elements_by_css_selector(\"div.item-price>strong\")\n"
     ]
    },
    {
     "data": {
      "text/plain": [
       "[<selenium.webdriver.remote.webelement.WebElement (session=\"df0ca56dd411fe76af8ee1f596e311d9\", element=\"6a014a35-84e1-4a46-8c31-afb92089fa3c\")>,\n",
       " <selenium.webdriver.remote.webelement.WebElement (session=\"df0ca56dd411fe76af8ee1f596e311d9\", element=\"27659148-f3f6-423c-a330-e034d6c846d5\")>,\n",
       " <selenium.webdriver.remote.webelement.WebElement (session=\"df0ca56dd411fe76af8ee1f596e311d9\", element=\"04e371ac-1503-4134-baf6-e1b363c21346\")>,\n",
       " <selenium.webdriver.remote.webelement.WebElement (session=\"df0ca56dd411fe76af8ee1f596e311d9\", element=\"cc8b9dc7-1e5e-4e40-a355-00a94c858751\")>,\n",
       " <selenium.webdriver.remote.webelement.WebElement (session=\"df0ca56dd411fe76af8ee1f596e311d9\", element=\"500e5717-2e48-437f-8524-adedfaf8cb83\")>,\n",
       " <selenium.webdriver.remote.webelement.WebElement (session=\"df0ca56dd411fe76af8ee1f596e311d9\", element=\"787b7c08-967a-4e9f-9d39-9fe2c20fbacc\")>,\n",
       " <selenium.webdriver.remote.webelement.WebElement (session=\"df0ca56dd411fe76af8ee1f596e311d9\", element=\"4f16b0d4-bc04-4b4d-b375-5de596410e5c\")>,\n",
       " <selenium.webdriver.remote.webelement.WebElement (session=\"df0ca56dd411fe76af8ee1f596e311d9\", element=\"d96ca0fa-fac3-497f-a0e5-8ea8001da4c1\")>]"
      ]
     },
     "execution_count": 26,
     "metadata": {},
     "output_type": "execute_result"
    }
   ],
   "source": [
    "price = driver.find_elements_by_css_selector(\"div.item-price>strong\")\n",
    "price"
   ]
  },
  {
   "cell_type": "code",
   "execution_count": 27,
   "id": "af777998",
   "metadata": {},
   "outputs": [
    {
     "data": {
      "text/plain": [
       "['4,900', '7,200', '6,300', '4,900', '4,600', '5,200', '5,900', '3,900']"
      ]
     },
     "execution_count": 27,
     "metadata": {},
     "output_type": "execute_result"
    }
   ],
   "source": [
    "priceList = []\n",
    "for i in price:\n",
    "    priceList.append(i.text)\n",
    "priceList"
   ]
  },
  {
   "cell_type": "code",
   "execution_count": 35,
   "id": "565dfb02",
   "metadata": {},
   "outputs": [
    {
     "name": "stderr",
     "output_type": "stream",
     "text": [
      "C:\\Users\\smhrd\\AppData\\Local\\Temp/ipykernel_8928/999299942.py:2: DeprecationWarning: find_element_by_* commands are deprecated. Please use find_element() instead\n",
      "  btn = driver.find_element_by_css_selector(\"a.c_05\")\n"
     ]
    }
   ],
   "source": [
    "# 더보기 버튼 찾기\n",
    "btn = driver.find_element_by_css_selector(\"a.c_05\")"
   ]
  },
  {
   "cell_type": "code",
   "execution_count": 30,
   "id": "7c61bb6d",
   "metadata": {},
   "outputs": [],
   "source": [
    "# 더보기 클릭\n",
    "btn.click()"
   ]
  },
  {
   "cell_type": "markdown",
   "id": "3cba9849",
   "metadata": {},
   "source": [
    "# 예외처리 try,except\n",
    "- try : 오류가 나기 전까지 실행할 로직\n",
    "- except : 오류가 났을 때 실행할 로직"
   ]
  },
  {
   "cell_type": "code",
   "execution_count": 36,
   "id": "1cbcd287",
   "metadata": {},
   "outputs": [],
   "source": [
    "# time 라이브러리\n",
    "# 코드 중간중간에 쉬는 시간을 부여\n",
    "import time"
   ]
  },
  {
   "cell_type": "code",
   "execution_count": 37,
   "id": "16d6d3a5",
   "metadata": {},
   "outputs": [
    {
     "name": "stdout",
     "output_type": "stream",
     "text": [
      "더보기가 끝났습니다.\n"
     ]
    }
   ],
   "source": [
    "try:\n",
    "    for i in range(10):\n",
    "        btn.click()\n",
    "        time.sleep(2)\n",
    "except:\n",
    "    print(\"더보기가 끝났습니다.\")"
   ]
  },
  {
   "cell_type": "code",
   "execution_count": 38,
   "id": "2caba931",
   "metadata": {
    "scrolled": true
   },
   "outputs": [
    {
     "name": "stderr",
     "output_type": "stream",
     "text": [
      "C:\\Users\\smhrd\\AppData\\Local\\Temp/ipykernel_8928/2799218182.py:1: DeprecationWarning: find_elements_by_* commands are deprecated. Please use find_elements() instead\n",
      "  menu = driver.find_elements_by_css_selector(\"h4.h.fz_03\")\n"
     ]
    },
    {
     "data": {
      "text/plain": [
       "[<selenium.webdriver.remote.webelement.WebElement (session=\"6c6fc1d2388aac98062f5c49b4af2fea\", element=\"a19e4545-0b70-490f-9ecc-b88fb4f6a75e\")>,\n",
       " <selenium.webdriver.remote.webelement.WebElement (session=\"6c6fc1d2388aac98062f5c49b4af2fea\", element=\"7b1cc373-ea4b-4a49-93d3-583401ba12b0\")>,\n",
       " <selenium.webdriver.remote.webelement.WebElement (session=\"6c6fc1d2388aac98062f5c49b4af2fea\", element=\"1d53391c-64e0-4688-a853-6535bde65d55\")>,\n",
       " <selenium.webdriver.remote.webelement.WebElement (session=\"6c6fc1d2388aac98062f5c49b4af2fea\", element=\"7195081e-b208-42ea-acde-9fff9f23e25e\")>,\n",
       " <selenium.webdriver.remote.webelement.WebElement (session=\"6c6fc1d2388aac98062f5c49b4af2fea\", element=\"2e300a8c-5c6b-4b19-9935-b06d30e53ebc\")>,\n",
       " <selenium.webdriver.remote.webelement.WebElement (session=\"6c6fc1d2388aac98062f5c49b4af2fea\", element=\"ac586af2-75e5-4fb9-9958-c58ef82aea28\")>,\n",
       " <selenium.webdriver.remote.webelement.WebElement (session=\"6c6fc1d2388aac98062f5c49b4af2fea\", element=\"c4c265e4-aa73-4606-9dac-a351e53e1095\")>,\n",
       " <selenium.webdriver.remote.webelement.WebElement (session=\"6c6fc1d2388aac98062f5c49b4af2fea\", element=\"654eefe2-8701-4c5e-b328-102efd8a7ef8\")>,\n",
       " <selenium.webdriver.remote.webelement.WebElement (session=\"6c6fc1d2388aac98062f5c49b4af2fea\", element=\"17db1821-6be8-40cf-adba-557fda829e19\")>,\n",
       " <selenium.webdriver.remote.webelement.WebElement (session=\"6c6fc1d2388aac98062f5c49b4af2fea\", element=\"c5bd7393-398b-4aab-abf0-722604e6839e\")>,\n",
       " <selenium.webdriver.remote.webelement.WebElement (session=\"6c6fc1d2388aac98062f5c49b4af2fea\", element=\"d3863dc8-4866-4c6e-b2cc-836804ae8bee\")>,\n",
       " <selenium.webdriver.remote.webelement.WebElement (session=\"6c6fc1d2388aac98062f5c49b4af2fea\", element=\"61e82d1c-cac2-4c4d-b456-fee890b41e8d\")>,\n",
       " <selenium.webdriver.remote.webelement.WebElement (session=\"6c6fc1d2388aac98062f5c49b4af2fea\", element=\"1132fe75-e040-4f02-96a3-7e48ddcddfd0\")>,\n",
       " <selenium.webdriver.remote.webelement.WebElement (session=\"6c6fc1d2388aac98062f5c49b4af2fea\", element=\"d8785261-8056-451e-a299-1c59aabe73f6\")>,\n",
       " <selenium.webdriver.remote.webelement.WebElement (session=\"6c6fc1d2388aac98062f5c49b4af2fea\", element=\"a4e28611-2bbb-45cc-81a1-cf0340872822\")>,\n",
       " <selenium.webdriver.remote.webelement.WebElement (session=\"6c6fc1d2388aac98062f5c49b4af2fea\", element=\"ac5c69ae-5c64-43bf-90f5-2fe890353648\")>,\n",
       " <selenium.webdriver.remote.webelement.WebElement (session=\"6c6fc1d2388aac98062f5c49b4af2fea\", element=\"aa810099-9cc3-45f8-85f1-ab9a07526bfe\")>,\n",
       " <selenium.webdriver.remote.webelement.WebElement (session=\"6c6fc1d2388aac98062f5c49b4af2fea\", element=\"dda200f5-a5d9-4c57-9435-39d5ecd08e3c\")>,\n",
       " <selenium.webdriver.remote.webelement.WebElement (session=\"6c6fc1d2388aac98062f5c49b4af2fea\", element=\"6b96b8ad-9f0a-43b0-a5fb-9c60f09886f0\")>,\n",
       " <selenium.webdriver.remote.webelement.WebElement (session=\"6c6fc1d2388aac98062f5c49b4af2fea\", element=\"ab1df1c0-c7ab-49ab-afc0-effbcd1605fb\")>,\n",
       " <selenium.webdriver.remote.webelement.WebElement (session=\"6c6fc1d2388aac98062f5c49b4af2fea\", element=\"23262759-2380-4aa4-af6a-b68162a2c3ea\")>,\n",
       " <selenium.webdriver.remote.webelement.WebElement (session=\"6c6fc1d2388aac98062f5c49b4af2fea\", element=\"7638021a-c223-40be-bc80-c96bcc494c1a\")>,\n",
       " <selenium.webdriver.remote.webelement.WebElement (session=\"6c6fc1d2388aac98062f5c49b4af2fea\", element=\"d8d837ba-3003-429d-a10a-ba2227f9b802\")>,\n",
       " <selenium.webdriver.remote.webelement.WebElement (session=\"6c6fc1d2388aac98062f5c49b4af2fea\", element=\"994349e9-e117-437d-ab5a-1a8fae9aa01c\")>,\n",
       " <selenium.webdriver.remote.webelement.WebElement (session=\"6c6fc1d2388aac98062f5c49b4af2fea\", element=\"9e2534c8-4818-42b8-a46c-7f9c4b7b88bc\")>,\n",
       " <selenium.webdriver.remote.webelement.WebElement (session=\"6c6fc1d2388aac98062f5c49b4af2fea\", element=\"48e805e0-a637-429e-9ed1-f807e0064ec6\")>,\n",
       " <selenium.webdriver.remote.webelement.WebElement (session=\"6c6fc1d2388aac98062f5c49b4af2fea\", element=\"9f6a03c0-6463-4f41-8096-dcb46ac0b514\")>,\n",
       " <selenium.webdriver.remote.webelement.WebElement (session=\"6c6fc1d2388aac98062f5c49b4af2fea\", element=\"4a8c91b3-8185-4d7d-80f0-4b85d459f3e7\")>,\n",
       " <selenium.webdriver.remote.webelement.WebElement (session=\"6c6fc1d2388aac98062f5c49b4af2fea\", element=\"186ef5de-5396-48f1-b0c0-8070a9ff1840\")>,\n",
       " <selenium.webdriver.remote.webelement.WebElement (session=\"6c6fc1d2388aac98062f5c49b4af2fea\", element=\"24718120-6d80-451a-b463-4be99873e34e\")>,\n",
       " <selenium.webdriver.remote.webelement.WebElement (session=\"6c6fc1d2388aac98062f5c49b4af2fea\", element=\"95e49c93-6b3f-41f0-a048-67d55a5cef74\")>,\n",
       " <selenium.webdriver.remote.webelement.WebElement (session=\"6c6fc1d2388aac98062f5c49b4af2fea\", element=\"4ce30d02-7eca-4c68-8056-932e5d7b87c1\")>,\n",
       " <selenium.webdriver.remote.webelement.WebElement (session=\"6c6fc1d2388aac98062f5c49b4af2fea\", element=\"2b0cfe56-4dc9-47f6-83b7-0e03a91ce31d\")>,\n",
       " <selenium.webdriver.remote.webelement.WebElement (session=\"6c6fc1d2388aac98062f5c49b4af2fea\", element=\"a23c78a5-146a-4bb9-bb5f-3b7000094123\")>,\n",
       " <selenium.webdriver.remote.webelement.WebElement (session=\"6c6fc1d2388aac98062f5c49b4af2fea\", element=\"5e4928b6-b27f-45b1-900e-859f749d616c\")>,\n",
       " <selenium.webdriver.remote.webelement.WebElement (session=\"6c6fc1d2388aac98062f5c49b4af2fea\", element=\"1dcf7153-4ff1-4701-861f-e8e2b7e6b0ad\")>,\n",
       " <selenium.webdriver.remote.webelement.WebElement (session=\"6c6fc1d2388aac98062f5c49b4af2fea\", element=\"7104a6b9-2c63-4e81-84b1-e8395243c987\")>,\n",
       " <selenium.webdriver.remote.webelement.WebElement (session=\"6c6fc1d2388aac98062f5c49b4af2fea\", element=\"f5d1c869-a418-4897-9056-175e44fad6bf\")>,\n",
       " <selenium.webdriver.remote.webelement.WebElement (session=\"6c6fc1d2388aac98062f5c49b4af2fea\", element=\"0ea36138-71cd-4b15-a36e-4f66665156a8\")>,\n",
       " <selenium.webdriver.remote.webelement.WebElement (session=\"6c6fc1d2388aac98062f5c49b4af2fea\", element=\"3370beea-7966-49a0-897d-0c07a2edadf5\")>,\n",
       " <selenium.webdriver.remote.webelement.WebElement (session=\"6c6fc1d2388aac98062f5c49b4af2fea\", element=\"28037771-5370-437e-8f7d-dc6667415718\")>,\n",
       " <selenium.webdriver.remote.webelement.WebElement (session=\"6c6fc1d2388aac98062f5c49b4af2fea\", element=\"592ec2aa-5ce9-41c5-b7d1-ffe6915e028f\")>,\n",
       " <selenium.webdriver.remote.webelement.WebElement (session=\"6c6fc1d2388aac98062f5c49b4af2fea\", element=\"4c948855-b9e8-4507-938b-60ae56ba2660\")>,\n",
       " <selenium.webdriver.remote.webelement.WebElement (session=\"6c6fc1d2388aac98062f5c49b4af2fea\", element=\"140dea48-76e2-4b3e-a38b-36d5514a4a8a\")>,\n",
       " <selenium.webdriver.remote.webelement.WebElement (session=\"6c6fc1d2388aac98062f5c49b4af2fea\", element=\"4439056d-e100-44dd-b0f5-30ea1de68b03\")>,\n",
       " <selenium.webdriver.remote.webelement.WebElement (session=\"6c6fc1d2388aac98062f5c49b4af2fea\", element=\"8a606c0e-0aef-4c91-b4da-64069e5eee47\")>,\n",
       " <selenium.webdriver.remote.webelement.WebElement (session=\"6c6fc1d2388aac98062f5c49b4af2fea\", element=\"4626eed0-fa79-48d5-a173-06712ccdafca\")>,\n",
       " <selenium.webdriver.remote.webelement.WebElement (session=\"6c6fc1d2388aac98062f5c49b4af2fea\", element=\"21675bdd-8a5f-40cd-bb58-e33b24913a99\")>,\n",
       " <selenium.webdriver.remote.webelement.WebElement (session=\"6c6fc1d2388aac98062f5c49b4af2fea\", element=\"b8e2d7e7-2f09-4d7c-a793-9d8005a55d81\")>,\n",
       " <selenium.webdriver.remote.webelement.WebElement (session=\"6c6fc1d2388aac98062f5c49b4af2fea\", element=\"fd4698a6-316c-4980-86d9-2a754e477a14\")>,\n",
       " <selenium.webdriver.remote.webelement.WebElement (session=\"6c6fc1d2388aac98062f5c49b4af2fea\", element=\"5c7233bc-93b2-4372-a512-1d0bfa492ea9\")>,\n",
       " <selenium.webdriver.remote.webelement.WebElement (session=\"6c6fc1d2388aac98062f5c49b4af2fea\", element=\"d9de0d1a-5644-4a46-9ef2-a0698af8052c\")>,\n",
       " <selenium.webdriver.remote.webelement.WebElement (session=\"6c6fc1d2388aac98062f5c49b4af2fea\", element=\"48d9f6fc-e703-4bee-9ca1-8f437e0ae473\")>,\n",
       " <selenium.webdriver.remote.webelement.WebElement (session=\"6c6fc1d2388aac98062f5c49b4af2fea\", element=\"c313cb11-fff8-4b84-86c4-320ce5a57325\")>,\n",
       " <selenium.webdriver.remote.webelement.WebElement (session=\"6c6fc1d2388aac98062f5c49b4af2fea\", element=\"de165f29-686d-4fe8-ab59-440f5b512b29\")>,\n",
       " <selenium.webdriver.remote.webelement.WebElement (session=\"6c6fc1d2388aac98062f5c49b4af2fea\", element=\"2862ca35-6f0d-4019-b679-b6b6ec93e421\")>,\n",
       " <selenium.webdriver.remote.webelement.WebElement (session=\"6c6fc1d2388aac98062f5c49b4af2fea\", element=\"c14d6cc3-0c92-439f-8c1d-f4efef850135\")>,\n",
       " <selenium.webdriver.remote.webelement.WebElement (session=\"6c6fc1d2388aac98062f5c49b4af2fea\", element=\"907dce7b-6c1c-4abb-aa24-6c6eccff4ab6\")>,\n",
       " <selenium.webdriver.remote.webelement.WebElement (session=\"6c6fc1d2388aac98062f5c49b4af2fea\", element=\"b9521541-322a-4bd0-b542-9da442c000f8\")>,\n",
       " <selenium.webdriver.remote.webelement.WebElement (session=\"6c6fc1d2388aac98062f5c49b4af2fea\", element=\"75383d03-2ae6-490c-8705-b738328511c3\")>,\n",
       " <selenium.webdriver.remote.webelement.WebElement (session=\"6c6fc1d2388aac98062f5c49b4af2fea\", element=\"02562f66-a52d-4c90-801d-512578b857bc\")>,\n",
       " <selenium.webdriver.remote.webelement.WebElement (session=\"6c6fc1d2388aac98062f5c49b4af2fea\", element=\"f5c7d472-4139-43b4-a8fe-c8df2b11259b\")>,\n",
       " <selenium.webdriver.remote.webelement.WebElement (session=\"6c6fc1d2388aac98062f5c49b4af2fea\", element=\"d20d2d66-54af-4c57-9335-f9d930eebc8b\")>,\n",
       " <selenium.webdriver.remote.webelement.WebElement (session=\"6c6fc1d2388aac98062f5c49b4af2fea\", element=\"f8fe8f6b-ccdb-4bf9-a828-c49fa5394cd4\")>,\n",
       " <selenium.webdriver.remote.webelement.WebElement (session=\"6c6fc1d2388aac98062f5c49b4af2fea\", element=\"337dc7fc-ccf5-4aeb-ab8f-a24e0e6035d9\")>,\n",
       " <selenium.webdriver.remote.webelement.WebElement (session=\"6c6fc1d2388aac98062f5c49b4af2fea\", element=\"f04176ae-fea7-41c8-b082-8eb44c847207\")>,\n",
       " <selenium.webdriver.remote.webelement.WebElement (session=\"6c6fc1d2388aac98062f5c49b4af2fea\", element=\"5c94361d-211d-4b2b-99c0-3c1cf05ca2c7\")>,\n",
       " <selenium.webdriver.remote.webelement.WebElement (session=\"6c6fc1d2388aac98062f5c49b4af2fea\", element=\"e25f9e36-5c4a-4cdf-be3d-957e0df16b43\")>,\n",
       " <selenium.webdriver.remote.webelement.WebElement (session=\"6c6fc1d2388aac98062f5c49b4af2fea\", element=\"151e83d7-4497-44b7-9ed8-93c253c8dcdf\")>,\n",
       " <selenium.webdriver.remote.webelement.WebElement (session=\"6c6fc1d2388aac98062f5c49b4af2fea\", element=\"071c2408-fdad-41a3-9aa9-0152ee968ed1\")>,\n",
       " <selenium.webdriver.remote.webelement.WebElement (session=\"6c6fc1d2388aac98062f5c49b4af2fea\", element=\"c92d4bb0-cdc5-455e-be97-4f9f07b7ae94\")>,\n",
       " <selenium.webdriver.remote.webelement.WebElement (session=\"6c6fc1d2388aac98062f5c49b4af2fea\", element=\"f50a8b99-fcd2-4fa8-af64-a94c6aa2c678\")>,\n",
       " <selenium.webdriver.remote.webelement.WebElement (session=\"6c6fc1d2388aac98062f5c49b4af2fea\", element=\"5a41af03-4456-40a2-8114-17c5225700d6\")>,\n",
       " <selenium.webdriver.remote.webelement.WebElement (session=\"6c6fc1d2388aac98062f5c49b4af2fea\", element=\"d6776412-8c64-42a5-94c2-dc7380f8d882\")>,\n",
       " <selenium.webdriver.remote.webelement.WebElement (session=\"6c6fc1d2388aac98062f5c49b4af2fea\", element=\"139d022e-dcec-47d8-8463-4f1dab15f9ff\")>,\n",
       " <selenium.webdriver.remote.webelement.WebElement (session=\"6c6fc1d2388aac98062f5c49b4af2fea\", element=\"4bfb6f10-62a7-4b3c-8ff9-24c426c5725a\")>,\n",
       " <selenium.webdriver.remote.webelement.WebElement (session=\"6c6fc1d2388aac98062f5c49b4af2fea\", element=\"0073c5f0-0946-42d6-8b67-8dc5907b469e\")>,\n",
       " <selenium.webdriver.remote.webelement.WebElement (session=\"6c6fc1d2388aac98062f5c49b4af2fea\", element=\"366ff655-06ce-4061-8f2d-755f21869dc3\")>,\n",
       " <selenium.webdriver.remote.webelement.WebElement (session=\"6c6fc1d2388aac98062f5c49b4af2fea\", element=\"67a7d155-2ca7-4335-9d37-04d00e5e4b31\")>,\n",
       " <selenium.webdriver.remote.webelement.WebElement (session=\"6c6fc1d2388aac98062f5c49b4af2fea\", element=\"198463f0-c5be-4ae3-8044-f80d8049c900\")>,\n",
       " <selenium.webdriver.remote.webelement.WebElement (session=\"6c6fc1d2388aac98062f5c49b4af2fea\", element=\"93ea0d66-88c4-463b-89ee-09a1037c0769\")>,\n",
       " <selenium.webdriver.remote.webelement.WebElement (session=\"6c6fc1d2388aac98062f5c49b4af2fea\", element=\"e64e76d3-a031-40b1-bbb4-4c6d11efe586\")>,\n",
       " <selenium.webdriver.remote.webelement.WebElement (session=\"6c6fc1d2388aac98062f5c49b4af2fea\", element=\"19b5471f-2515-4b72-a9d0-a31d00531286\")>,\n",
       " <selenium.webdriver.remote.webelement.WebElement (session=\"6c6fc1d2388aac98062f5c49b4af2fea\", element=\"f31e4aa7-27ba-48c8-b017-368a2e168106\")>,\n",
       " <selenium.webdriver.remote.webelement.WebElement (session=\"6c6fc1d2388aac98062f5c49b4af2fea\", element=\"b4960779-be0c-4f50-8ff9-ca6d44134cb2\")>,\n",
       " <selenium.webdriver.remote.webelement.WebElement (session=\"6c6fc1d2388aac98062f5c49b4af2fea\", element=\"eb0ce659-1990-46bf-8240-ee1fd920c292\")>,\n",
       " <selenium.webdriver.remote.webelement.WebElement (session=\"6c6fc1d2388aac98062f5c49b4af2fea\", element=\"a827dc1d-44b8-434e-b27b-bb75cd2d9fa1\")>,\n",
       " <selenium.webdriver.remote.webelement.WebElement (session=\"6c6fc1d2388aac98062f5c49b4af2fea\", element=\"58080ba5-abf8-48ab-9a24-9f0f1a2d0aa1\")>,\n",
       " <selenium.webdriver.remote.webelement.WebElement (session=\"6c6fc1d2388aac98062f5c49b4af2fea\", element=\"81bf2475-230c-4199-813a-c27d1323faf8\")>,\n",
       " <selenium.webdriver.remote.webelement.WebElement (session=\"6c6fc1d2388aac98062f5c49b4af2fea\", element=\"21a5c0d5-0da0-4b9e-b239-7811d8d77c1a\")>,\n",
       " <selenium.webdriver.remote.webelement.WebElement (session=\"6c6fc1d2388aac98062f5c49b4af2fea\", element=\"0562cfd5-7d06-4327-8455-f7526cd90250\")>,\n",
       " <selenium.webdriver.remote.webelement.WebElement (session=\"6c6fc1d2388aac98062f5c49b4af2fea\", element=\"05901a6c-49f0-4314-8da0-0be4fd37be65\")>,\n",
       " <selenium.webdriver.remote.webelement.WebElement (session=\"6c6fc1d2388aac98062f5c49b4af2fea\", element=\"99e88328-482d-47f0-a442-7836ca58e199\")>,\n",
       " <selenium.webdriver.remote.webelement.WebElement (session=\"6c6fc1d2388aac98062f5c49b4af2fea\", element=\"a391fc17-3306-471d-bc65-09c5145e4b7c\")>,\n",
       " <selenium.webdriver.remote.webelement.WebElement (session=\"6c6fc1d2388aac98062f5c49b4af2fea\", element=\"895d5528-efcb-47ac-9cd7-b3b86020c21b\")>,\n",
       " <selenium.webdriver.remote.webelement.WebElement (session=\"6c6fc1d2388aac98062f5c49b4af2fea\", element=\"ba0154dd-802a-4342-9746-7d9d1d76dc91\")>,\n",
       " <selenium.webdriver.remote.webelement.WebElement (session=\"6c6fc1d2388aac98062f5c49b4af2fea\", element=\"e41249ec-1ddc-45e3-8a74-83a70921647a\")>,\n",
       " <selenium.webdriver.remote.webelement.WebElement (session=\"6c6fc1d2388aac98062f5c49b4af2fea\", element=\"50b2d045-6aa0-499d-98c9-d08e495a7b5c\")>,\n",
       " <selenium.webdriver.remote.webelement.WebElement (session=\"6c6fc1d2388aac98062f5c49b4af2fea\", element=\"b54f7197-2153-478b-a794-cc97909d28e7\")>,\n",
       " <selenium.webdriver.remote.webelement.WebElement (session=\"6c6fc1d2388aac98062f5c49b4af2fea\", element=\"d5177eda-1c0a-452c-b008-ffb9af1673dd\")>,\n",
       " <selenium.webdriver.remote.webelement.WebElement (session=\"6c6fc1d2388aac98062f5c49b4af2fea\", element=\"710b2b2d-47db-4d76-b47e-c927f9a4d236\")>,\n",
       " <selenium.webdriver.remote.webelement.WebElement (session=\"6c6fc1d2388aac98062f5c49b4af2fea\", element=\"aed804b3-3009-49e0-a758-2f8c6f4642b4\")>,\n",
       " <selenium.webdriver.remote.webelement.WebElement (session=\"6c6fc1d2388aac98062f5c49b4af2fea\", element=\"2fa4926c-66d0-4ee5-9e53-135cdba5f61a\")>,\n",
       " <selenium.webdriver.remote.webelement.WebElement (session=\"6c6fc1d2388aac98062f5c49b4af2fea\", element=\"bcf92c45-fc3a-49fd-a7eb-be1a3ad866ce\")>,\n",
       " <selenium.webdriver.remote.webelement.WebElement (session=\"6c6fc1d2388aac98062f5c49b4af2fea\", element=\"0874b17a-2ae8-4d80-a172-fda207dd8836\")>,\n",
       " <selenium.webdriver.remote.webelement.WebElement (session=\"6c6fc1d2388aac98062f5c49b4af2fea\", element=\"d710c089-f649-435b-a825-047ebdc4f06c\")>,\n",
       " <selenium.webdriver.remote.webelement.WebElement (session=\"6c6fc1d2388aac98062f5c49b4af2fea\", element=\"5e450c61-eb2e-4832-ae91-0b5d309786c5\")>,\n",
       " <selenium.webdriver.remote.webelement.WebElement (session=\"6c6fc1d2388aac98062f5c49b4af2fea\", element=\"4c7b3f53-f114-4a37-b3b5-8c1d6d7e9218\")>,\n",
       " <selenium.webdriver.remote.webelement.WebElement (session=\"6c6fc1d2388aac98062f5c49b4af2fea\", element=\"6cb0b9eb-2350-4719-a195-519aa7cc20f0\")>,\n",
       " <selenium.webdriver.remote.webelement.WebElement (session=\"6c6fc1d2388aac98062f5c49b4af2fea\", element=\"c65d3172-10b6-417a-9edc-fac5faf29dcb\")>,\n",
       " <selenium.webdriver.remote.webelement.WebElement (session=\"6c6fc1d2388aac98062f5c49b4af2fea\", element=\"2c7a9651-5e66-4031-86d7-163f5130815a\")>]"
      ]
     },
     "execution_count": 38,
     "metadata": {},
     "output_type": "execute_result"
    }
   ],
   "source": [
    "menu = driver.find_elements_by_css_selector(\"h4.h.fz_03\")\n",
    "menu"
   ]
  },
  {
   "cell_type": "code",
   "execution_count": 39,
   "id": "e18d4100",
   "metadata": {},
   "outputs": [
    {
     "name": "stderr",
     "output_type": "stream",
     "text": [
      "C:\\Users\\smhrd\\AppData\\Local\\Temp/ipykernel_8928/188103999.py:1: DeprecationWarning: find_elements_by_* commands are deprecated. Please use find_elements() instead\n",
      "  price = driver.find_elements_by_css_selector(\"div.item-price>strong\")\n"
     ]
    },
    {
     "data": {
      "text/plain": [
       "[<selenium.webdriver.remote.webelement.WebElement (session=\"6c6fc1d2388aac98062f5c49b4af2fea\", element=\"a8c18d46-670a-4d8e-9ff9-0d0200c9a797\")>,\n",
       " <selenium.webdriver.remote.webelement.WebElement (session=\"6c6fc1d2388aac98062f5c49b4af2fea\", element=\"598f00a5-c25d-4c68-9db7-1d4f88f9fce8\")>,\n",
       " <selenium.webdriver.remote.webelement.WebElement (session=\"6c6fc1d2388aac98062f5c49b4af2fea\", element=\"59811a76-958e-4586-8ced-6727aedca088\")>,\n",
       " <selenium.webdriver.remote.webelement.WebElement (session=\"6c6fc1d2388aac98062f5c49b4af2fea\", element=\"da18f54f-10fd-487b-a96c-5d69800033b9\")>,\n",
       " <selenium.webdriver.remote.webelement.WebElement (session=\"6c6fc1d2388aac98062f5c49b4af2fea\", element=\"6a22a6e1-573d-4c3a-a20c-3027829da04a\")>,\n",
       " <selenium.webdriver.remote.webelement.WebElement (session=\"6c6fc1d2388aac98062f5c49b4af2fea\", element=\"5ff50a33-8267-4f19-8191-3c1f5614f747\")>,\n",
       " <selenium.webdriver.remote.webelement.WebElement (session=\"6c6fc1d2388aac98062f5c49b4af2fea\", element=\"dd0442ff-c965-4df6-b8bc-8a2a1eb286a3\")>,\n",
       " <selenium.webdriver.remote.webelement.WebElement (session=\"6c6fc1d2388aac98062f5c49b4af2fea\", element=\"3d8dda75-0645-43f1-bc1c-d5b57c34006a\")>,\n",
       " <selenium.webdriver.remote.webelement.WebElement (session=\"6c6fc1d2388aac98062f5c49b4af2fea\", element=\"708c0467-13ee-4d7b-9454-5b3b61ee9d21\")>,\n",
       " <selenium.webdriver.remote.webelement.WebElement (session=\"6c6fc1d2388aac98062f5c49b4af2fea\", element=\"dfdb3b48-d167-4df7-88b8-e918d8a77c90\")>,\n",
       " <selenium.webdriver.remote.webelement.WebElement (session=\"6c6fc1d2388aac98062f5c49b4af2fea\", element=\"ae727064-0629-449e-a651-6238b082ab43\")>,\n",
       " <selenium.webdriver.remote.webelement.WebElement (session=\"6c6fc1d2388aac98062f5c49b4af2fea\", element=\"7f037b0f-6a2b-4557-8cf8-7e1b38e9f1c6\")>,\n",
       " <selenium.webdriver.remote.webelement.WebElement (session=\"6c6fc1d2388aac98062f5c49b4af2fea\", element=\"6e85ff12-1826-4b42-a8f9-fa0f1bea5138\")>,\n",
       " <selenium.webdriver.remote.webelement.WebElement (session=\"6c6fc1d2388aac98062f5c49b4af2fea\", element=\"72f02fcf-dbb9-4304-80e2-04dd73da9ee5\")>,\n",
       " <selenium.webdriver.remote.webelement.WebElement (session=\"6c6fc1d2388aac98062f5c49b4af2fea\", element=\"9a1285e5-fbd5-4174-98f2-e5af305a2fe8\")>,\n",
       " <selenium.webdriver.remote.webelement.WebElement (session=\"6c6fc1d2388aac98062f5c49b4af2fea\", element=\"09d0700e-7d09-4336-be64-5534d5e7b396\")>,\n",
       " <selenium.webdriver.remote.webelement.WebElement (session=\"6c6fc1d2388aac98062f5c49b4af2fea\", element=\"56c756a4-e032-4b9c-94ef-951fce001e35\")>,\n",
       " <selenium.webdriver.remote.webelement.WebElement (session=\"6c6fc1d2388aac98062f5c49b4af2fea\", element=\"940c4a7b-2934-4718-a693-630b6ffc3264\")>,\n",
       " <selenium.webdriver.remote.webelement.WebElement (session=\"6c6fc1d2388aac98062f5c49b4af2fea\", element=\"83ff0245-d620-4885-a364-5710bb1c350e\")>,\n",
       " <selenium.webdriver.remote.webelement.WebElement (session=\"6c6fc1d2388aac98062f5c49b4af2fea\", element=\"80e69690-8ddc-41a1-82de-bf5ae3846207\")>,\n",
       " <selenium.webdriver.remote.webelement.WebElement (session=\"6c6fc1d2388aac98062f5c49b4af2fea\", element=\"4f4fd05a-03af-4a1b-962a-1f5016ee5cae\")>,\n",
       " <selenium.webdriver.remote.webelement.WebElement (session=\"6c6fc1d2388aac98062f5c49b4af2fea\", element=\"faf0b3c0-6df5-4b0d-a1c4-94eef0c0423b\")>,\n",
       " <selenium.webdriver.remote.webelement.WebElement (session=\"6c6fc1d2388aac98062f5c49b4af2fea\", element=\"f6d2e39f-9fa9-4afb-a236-231eacd9b433\")>,\n",
       " <selenium.webdriver.remote.webelement.WebElement (session=\"6c6fc1d2388aac98062f5c49b4af2fea\", element=\"fb035561-e5ab-4ccd-b60e-42c4262980a7\")>,\n",
       " <selenium.webdriver.remote.webelement.WebElement (session=\"6c6fc1d2388aac98062f5c49b4af2fea\", element=\"0d1319d7-c796-4c98-8207-3feac3232dcd\")>,\n",
       " <selenium.webdriver.remote.webelement.WebElement (session=\"6c6fc1d2388aac98062f5c49b4af2fea\", element=\"d8e29a28-dc2f-4ea1-a44b-cd5e9172bdfb\")>,\n",
       " <selenium.webdriver.remote.webelement.WebElement (session=\"6c6fc1d2388aac98062f5c49b4af2fea\", element=\"e39a0ef4-27a2-49a3-a363-5090008c4f2c\")>,\n",
       " <selenium.webdriver.remote.webelement.WebElement (session=\"6c6fc1d2388aac98062f5c49b4af2fea\", element=\"752aeefe-f884-4049-a649-1d83369da733\")>,\n",
       " <selenium.webdriver.remote.webelement.WebElement (session=\"6c6fc1d2388aac98062f5c49b4af2fea\", element=\"065f4ccd-6e12-4218-a848-1c1393f091f1\")>,\n",
       " <selenium.webdriver.remote.webelement.WebElement (session=\"6c6fc1d2388aac98062f5c49b4af2fea\", element=\"436fb7ef-39f9-4e7b-a736-c8a1b62814a0\")>,\n",
       " <selenium.webdriver.remote.webelement.WebElement (session=\"6c6fc1d2388aac98062f5c49b4af2fea\", element=\"2140250b-6da0-4264-9416-d611fb0e0947\")>,\n",
       " <selenium.webdriver.remote.webelement.WebElement (session=\"6c6fc1d2388aac98062f5c49b4af2fea\", element=\"39a85707-3477-45c3-b50d-c1b7b280eaad\")>,\n",
       " <selenium.webdriver.remote.webelement.WebElement (session=\"6c6fc1d2388aac98062f5c49b4af2fea\", element=\"e686e1b1-a778-48a8-9a78-9bd49a601bb3\")>,\n",
       " <selenium.webdriver.remote.webelement.WebElement (session=\"6c6fc1d2388aac98062f5c49b4af2fea\", element=\"fc653a4e-afa7-4c85-8874-340c5e3f71ba\")>,\n",
       " <selenium.webdriver.remote.webelement.WebElement (session=\"6c6fc1d2388aac98062f5c49b4af2fea\", element=\"91f77ee0-a135-4e0e-8720-f87e3951b7ff\")>,\n",
       " <selenium.webdriver.remote.webelement.WebElement (session=\"6c6fc1d2388aac98062f5c49b4af2fea\", element=\"e855e88c-482a-4624-a4ae-56a86883acc4\")>,\n",
       " <selenium.webdriver.remote.webelement.WebElement (session=\"6c6fc1d2388aac98062f5c49b4af2fea\", element=\"f7ec4a32-9c17-4400-bb68-bd22d67d3a90\")>,\n",
       " <selenium.webdriver.remote.webelement.WebElement (session=\"6c6fc1d2388aac98062f5c49b4af2fea\", element=\"21c525ca-260a-4d9c-9c14-5b00eb35ae16\")>,\n",
       " <selenium.webdriver.remote.webelement.WebElement (session=\"6c6fc1d2388aac98062f5c49b4af2fea\", element=\"cf08cbd8-5e74-4c5e-bb9c-d88e2a50203d\")>,\n",
       " <selenium.webdriver.remote.webelement.WebElement (session=\"6c6fc1d2388aac98062f5c49b4af2fea\", element=\"e8d40eba-b62d-445c-ae14-5adf9fc59404\")>,\n",
       " <selenium.webdriver.remote.webelement.WebElement (session=\"6c6fc1d2388aac98062f5c49b4af2fea\", element=\"20d3df55-e061-4747-82c4-0043e36e34ae\")>,\n",
       " <selenium.webdriver.remote.webelement.WebElement (session=\"6c6fc1d2388aac98062f5c49b4af2fea\", element=\"1425d6fb-2ebc-4882-ad87-7c02b0f55139\")>,\n",
       " <selenium.webdriver.remote.webelement.WebElement (session=\"6c6fc1d2388aac98062f5c49b4af2fea\", element=\"6131664c-65ed-4ac4-abc6-631614b6f9a9\")>,\n",
       " <selenium.webdriver.remote.webelement.WebElement (session=\"6c6fc1d2388aac98062f5c49b4af2fea\", element=\"66258e05-4bdf-42f1-9aac-811e263414a6\")>,\n",
       " <selenium.webdriver.remote.webelement.WebElement (session=\"6c6fc1d2388aac98062f5c49b4af2fea\", element=\"453a8ab9-ddde-420d-8ecd-5f7cb90d7a39\")>,\n",
       " <selenium.webdriver.remote.webelement.WebElement (session=\"6c6fc1d2388aac98062f5c49b4af2fea\", element=\"dc7530d8-0656-49b3-b2e2-acff59334ce1\")>,\n",
       " <selenium.webdriver.remote.webelement.WebElement (session=\"6c6fc1d2388aac98062f5c49b4af2fea\", element=\"8903b1b0-9cab-4faa-b022-143dc37cecdd\")>,\n",
       " <selenium.webdriver.remote.webelement.WebElement (session=\"6c6fc1d2388aac98062f5c49b4af2fea\", element=\"0c04403e-01aa-4bd9-842c-92f77bcba0df\")>,\n",
       " <selenium.webdriver.remote.webelement.WebElement (session=\"6c6fc1d2388aac98062f5c49b4af2fea\", element=\"eb476ec5-af5d-4ceb-bc17-0378a27d6df4\")>,\n",
       " <selenium.webdriver.remote.webelement.WebElement (session=\"6c6fc1d2388aac98062f5c49b4af2fea\", element=\"34cd22f1-3d33-407f-9c81-f710e12bc3b6\")>,\n",
       " <selenium.webdriver.remote.webelement.WebElement (session=\"6c6fc1d2388aac98062f5c49b4af2fea\", element=\"f240198f-bd66-4308-a4f5-7cbab4a73cec\")>,\n",
       " <selenium.webdriver.remote.webelement.WebElement (session=\"6c6fc1d2388aac98062f5c49b4af2fea\", element=\"39f6cf2e-0a9f-43f0-b055-cdba50032d72\")>,\n",
       " <selenium.webdriver.remote.webelement.WebElement (session=\"6c6fc1d2388aac98062f5c49b4af2fea\", element=\"90acc90b-9d2e-4c8d-8fc5-79b484067aef\")>,\n",
       " <selenium.webdriver.remote.webelement.WebElement (session=\"6c6fc1d2388aac98062f5c49b4af2fea\", element=\"7ae12f78-45da-4dfa-878c-68564a5b8e61\")>,\n",
       " <selenium.webdriver.remote.webelement.WebElement (session=\"6c6fc1d2388aac98062f5c49b4af2fea\", element=\"1eb9b10b-1fd0-466a-8c57-71ff77201986\")>,\n",
       " <selenium.webdriver.remote.webelement.WebElement (session=\"6c6fc1d2388aac98062f5c49b4af2fea\", element=\"a25d46c1-9d86-4b2f-9e51-027babe66718\")>,\n",
       " <selenium.webdriver.remote.webelement.WebElement (session=\"6c6fc1d2388aac98062f5c49b4af2fea\", element=\"99742ab3-5386-4880-9ad2-a1cbf4164dde\")>,\n",
       " <selenium.webdriver.remote.webelement.WebElement (session=\"6c6fc1d2388aac98062f5c49b4af2fea\", element=\"52e34d05-cc2a-4a53-9069-efa80c17bbec\")>,\n",
       " <selenium.webdriver.remote.webelement.WebElement (session=\"6c6fc1d2388aac98062f5c49b4af2fea\", element=\"31cf19b0-200d-4d9c-a214-836539053e70\")>,\n",
       " <selenium.webdriver.remote.webelement.WebElement (session=\"6c6fc1d2388aac98062f5c49b4af2fea\", element=\"13c72321-c77d-4c38-aa6b-57ae108c4b19\")>,\n",
       " <selenium.webdriver.remote.webelement.WebElement (session=\"6c6fc1d2388aac98062f5c49b4af2fea\", element=\"e8cd7dfd-ad49-47b5-a755-015b3a97b850\")>,\n",
       " <selenium.webdriver.remote.webelement.WebElement (session=\"6c6fc1d2388aac98062f5c49b4af2fea\", element=\"f93f3447-ab17-4a09-808e-0bb6d1a639d8\")>,\n",
       " <selenium.webdriver.remote.webelement.WebElement (session=\"6c6fc1d2388aac98062f5c49b4af2fea\", element=\"85eaaa74-b511-4570-b608-956a2333d77d\")>,\n",
       " <selenium.webdriver.remote.webelement.WebElement (session=\"6c6fc1d2388aac98062f5c49b4af2fea\", element=\"517e2996-0152-4c54-a9ff-1d6ebf05c678\")>,\n",
       " <selenium.webdriver.remote.webelement.WebElement (session=\"6c6fc1d2388aac98062f5c49b4af2fea\", element=\"1838e7f8-f10e-4a02-a310-2d74a985bda3\")>,\n",
       " <selenium.webdriver.remote.webelement.WebElement (session=\"6c6fc1d2388aac98062f5c49b4af2fea\", element=\"8d645bcd-f3e0-4e0c-83ff-44124b1bb4b5\")>,\n",
       " <selenium.webdriver.remote.webelement.WebElement (session=\"6c6fc1d2388aac98062f5c49b4af2fea\", element=\"e8306c6d-5f2f-4c98-bc58-8d453f97bbe5\")>,\n",
       " <selenium.webdriver.remote.webelement.WebElement (session=\"6c6fc1d2388aac98062f5c49b4af2fea\", element=\"69fdc6ca-049f-4e0c-b212-2a7e586aaeea\")>,\n",
       " <selenium.webdriver.remote.webelement.WebElement (session=\"6c6fc1d2388aac98062f5c49b4af2fea\", element=\"2faa9125-4601-4910-b468-fa83b781488a\")>,\n",
       " <selenium.webdriver.remote.webelement.WebElement (session=\"6c6fc1d2388aac98062f5c49b4af2fea\", element=\"b9341b3e-50cd-4409-a0a0-27821248bbe9\")>,\n",
       " <selenium.webdriver.remote.webelement.WebElement (session=\"6c6fc1d2388aac98062f5c49b4af2fea\", element=\"21f9002a-676e-4830-aef3-97f56486fa9d\")>,\n",
       " <selenium.webdriver.remote.webelement.WebElement (session=\"6c6fc1d2388aac98062f5c49b4af2fea\", element=\"230482f6-6ac2-4755-b09f-fa86f9266697\")>,\n",
       " <selenium.webdriver.remote.webelement.WebElement (session=\"6c6fc1d2388aac98062f5c49b4af2fea\", element=\"75c1eb27-df4c-4597-be2a-ad70be3fbcc7\")>,\n",
       " <selenium.webdriver.remote.webelement.WebElement (session=\"6c6fc1d2388aac98062f5c49b4af2fea\", element=\"be676379-d642-44ba-98c0-a06b63ed4f37\")>,\n",
       " <selenium.webdriver.remote.webelement.WebElement (session=\"6c6fc1d2388aac98062f5c49b4af2fea\", element=\"2def3de3-5d3b-4c72-82cd-2b2e0bff2e20\")>,\n",
       " <selenium.webdriver.remote.webelement.WebElement (session=\"6c6fc1d2388aac98062f5c49b4af2fea\", element=\"3b74c173-52f1-41ac-9a0c-27ab4598c4a5\")>,\n",
       " <selenium.webdriver.remote.webelement.WebElement (session=\"6c6fc1d2388aac98062f5c49b4af2fea\", element=\"019205ae-5f45-45fd-b64d-78faf9e5f2c0\")>,\n",
       " <selenium.webdriver.remote.webelement.WebElement (session=\"6c6fc1d2388aac98062f5c49b4af2fea\", element=\"e0c6bb3a-bc6a-4b04-a96a-6a1e8ef0494e\")>,\n",
       " <selenium.webdriver.remote.webelement.WebElement (session=\"6c6fc1d2388aac98062f5c49b4af2fea\", element=\"1759bbef-8728-4a6e-a6ba-e6266d2947e4\")>,\n",
       " <selenium.webdriver.remote.webelement.WebElement (session=\"6c6fc1d2388aac98062f5c49b4af2fea\", element=\"d887b435-82d6-421d-98b3-24fc79f31b25\")>,\n",
       " <selenium.webdriver.remote.webelement.WebElement (session=\"6c6fc1d2388aac98062f5c49b4af2fea\", element=\"486c703f-3f35-4188-95e5-c7f43a07051b\")>,\n",
       " <selenium.webdriver.remote.webelement.WebElement (session=\"6c6fc1d2388aac98062f5c49b4af2fea\", element=\"8e42ecf8-6264-4a53-988a-4dc65de6b26c\")>,\n",
       " <selenium.webdriver.remote.webelement.WebElement (session=\"6c6fc1d2388aac98062f5c49b4af2fea\", element=\"a5e1ee36-6511-4956-a60e-41c5e1c69307\")>,\n",
       " <selenium.webdriver.remote.webelement.WebElement (session=\"6c6fc1d2388aac98062f5c49b4af2fea\", element=\"25f1523c-f5f6-4967-96c6-f4901cc3418f\")>,\n",
       " <selenium.webdriver.remote.webelement.WebElement (session=\"6c6fc1d2388aac98062f5c49b4af2fea\", element=\"ab447c0e-b18c-4a13-bd15-d5fae53a223a\")>,\n",
       " <selenium.webdriver.remote.webelement.WebElement (session=\"6c6fc1d2388aac98062f5c49b4af2fea\", element=\"3a3c02fd-862c-4416-abc5-6515ddb44f39\")>,\n",
       " <selenium.webdriver.remote.webelement.WebElement (session=\"6c6fc1d2388aac98062f5c49b4af2fea\", element=\"93d1ca94-e739-4378-b2c6-5beb229c77a2\")>,\n",
       " <selenium.webdriver.remote.webelement.WebElement (session=\"6c6fc1d2388aac98062f5c49b4af2fea\", element=\"bea95d2c-cff9-450c-a765-b247d122cc75\")>,\n",
       " <selenium.webdriver.remote.webelement.WebElement (session=\"6c6fc1d2388aac98062f5c49b4af2fea\", element=\"b5100a4c-d71e-456e-9115-7ed132bde961\")>,\n",
       " <selenium.webdriver.remote.webelement.WebElement (session=\"6c6fc1d2388aac98062f5c49b4af2fea\", element=\"e01cdbd4-5234-459a-93e8-b49ce67f8655\")>,\n",
       " <selenium.webdriver.remote.webelement.WebElement (session=\"6c6fc1d2388aac98062f5c49b4af2fea\", element=\"f9382cda-02b6-4671-811e-2698796e4a8b\")>,\n",
       " <selenium.webdriver.remote.webelement.WebElement (session=\"6c6fc1d2388aac98062f5c49b4af2fea\", element=\"62339dfb-c051-4a12-800c-2c45b0885f3d\")>,\n",
       " <selenium.webdriver.remote.webelement.WebElement (session=\"6c6fc1d2388aac98062f5c49b4af2fea\", element=\"35a2eaf4-3bef-4eb4-beb8-7b792582b079\")>,\n",
       " <selenium.webdriver.remote.webelement.WebElement (session=\"6c6fc1d2388aac98062f5c49b4af2fea\", element=\"8ade7f45-206a-4fcb-a90f-a07f1b8d436c\")>,\n",
       " <selenium.webdriver.remote.webelement.WebElement (session=\"6c6fc1d2388aac98062f5c49b4af2fea\", element=\"f02644f3-4cef-488e-8907-e835c3c2d7d0\")>,\n",
       " <selenium.webdriver.remote.webelement.WebElement (session=\"6c6fc1d2388aac98062f5c49b4af2fea\", element=\"95031be1-6179-4ded-a64d-f19835c24bc2\")>,\n",
       " <selenium.webdriver.remote.webelement.WebElement (session=\"6c6fc1d2388aac98062f5c49b4af2fea\", element=\"1aec8af1-39e3-4b08-a5fc-f38265d93589\")>,\n",
       " <selenium.webdriver.remote.webelement.WebElement (session=\"6c6fc1d2388aac98062f5c49b4af2fea\", element=\"879c2ae7-1b0e-4db1-ace0-98ba5decc3c3\")>,\n",
       " <selenium.webdriver.remote.webelement.WebElement (session=\"6c6fc1d2388aac98062f5c49b4af2fea\", element=\"b9bf1c30-3e8c-4a4f-aec6-70f9c2216ce8\")>,\n",
       " <selenium.webdriver.remote.webelement.WebElement (session=\"6c6fc1d2388aac98062f5c49b4af2fea\", element=\"3f812367-f297-4923-a0a3-027f159c1deb\")>,\n",
       " <selenium.webdriver.remote.webelement.WebElement (session=\"6c6fc1d2388aac98062f5c49b4af2fea\", element=\"2786e1fd-c7ca-4440-bd78-4fce44f528f2\")>,\n",
       " <selenium.webdriver.remote.webelement.WebElement (session=\"6c6fc1d2388aac98062f5c49b4af2fea\", element=\"1dcb0ad6-7d32-43ad-9318-e7d58889a3d5\")>,\n",
       " <selenium.webdriver.remote.webelement.WebElement (session=\"6c6fc1d2388aac98062f5c49b4af2fea\", element=\"1b1931c8-0dbf-4dcc-bacd-83633c15942a\")>,\n",
       " <selenium.webdriver.remote.webelement.WebElement (session=\"6c6fc1d2388aac98062f5c49b4af2fea\", element=\"daed94fc-663d-4288-9cfc-f73290e8a786\")>,\n",
       " <selenium.webdriver.remote.webelement.WebElement (session=\"6c6fc1d2388aac98062f5c49b4af2fea\", element=\"ebdf8273-8ac6-44c1-9ed5-e3286fe85058\")>,\n",
       " <selenium.webdriver.remote.webelement.WebElement (session=\"6c6fc1d2388aac98062f5c49b4af2fea\", element=\"161d9944-6279-4a7d-92f8-0dda1b42defd\")>,\n",
       " <selenium.webdriver.remote.webelement.WebElement (session=\"6c6fc1d2388aac98062f5c49b4af2fea\", element=\"c67f77d4-d0bf-40ab-955d-cf6c0d442376\")>,\n",
       " <selenium.webdriver.remote.webelement.WebElement (session=\"6c6fc1d2388aac98062f5c49b4af2fea\", element=\"890da3c3-c82a-46d2-833c-e7f04af86a83\")>,\n",
       " <selenium.webdriver.remote.webelement.WebElement (session=\"6c6fc1d2388aac98062f5c49b4af2fea\", element=\"0791106f-29a4-4d02-961a-d2c9fc810da8\")>,\n",
       " <selenium.webdriver.remote.webelement.WebElement (session=\"6c6fc1d2388aac98062f5c49b4af2fea\", element=\"55cbc492-646a-4bc2-8d3e-4f3bde059928\")>,\n",
       " <selenium.webdriver.remote.webelement.WebElement (session=\"6c6fc1d2388aac98062f5c49b4af2fea\", element=\"338fa0a6-9778-4f16-bf20-6e63680f75df\")>]"
      ]
     },
     "execution_count": 39,
     "metadata": {},
     "output_type": "execute_result"
    }
   ],
   "source": [
    "price = driver.find_elements_by_css_selector(\"div.item-price>strong\")\n",
    "price"
   ]
  },
  {
   "cell_type": "code",
   "execution_count": 40,
   "id": "9b5de83b",
   "metadata": {},
   "outputs": [
    {
     "data": {
      "text/plain": [
       "['행사 숯불직화구이 덮밥',\n",
       " '행사 제육 김치 부대찌개 정식',\n",
       " '행사 빅치킨마요 김치 부대찌개 정식',\n",
       " '행사 돈까스도련님 고기고기',\n",
       " '행사 동백',\n",
       " '행사 새치 고기고기',\n",
       " '행사 진달래',\n",
       " '행사 스팸 김치볶음밥',\n",
       " '매화(치킨, 연어구이)',\n",
       " '매화(순살 고등어 간장구이)',\n",
       " '진달래',\n",
       " '개나리(순살 고등어 간장구이)',\n",
       " '돈까스도련님고기고기',\n",
       " '탕수육도련님고기고기',\n",
       " '새치 고기고기',\n",
       " '돈치 고기고기',\n",
       " '고기고기',\n",
       " '숯불직화구이',\n",
       " '소불고기',\n",
       " '메가치킨제육',\n",
       " '칠리 찹쌀탕수육도련님',\n",
       " '동백',\n",
       " '치킨제육',\n",
       " '돈까스도련님',\n",
       " '제육볶음',\n",
       " '돈치스팸 도시락',\n",
       " '제육 김치찌개 정식',\n",
       " '제육 김치 부대찌개 정식',\n",
       " '돈치스팸 김치 부대찌개 정식',\n",
       " '빅치킨마요 김치 부대찌개 정식',\n",
       " '치킨마요 김치 부대찌개 정식',\n",
       " '돈치스팸 김치찌개 정식',\n",
       " '빅치킨마요 김치찌개 정식',\n",
       " '치킨마요 김치찌개 정식',\n",
       " '메가스팸마요',\n",
       " '스팸마요',\n",
       " '메가치킨마요',\n",
       " '왕치킨마요',\n",
       " '빅치킨마요',\n",
       " '치킨마요',\n",
       " '참치마요',\n",
       " '돈치마요',\n",
       " '치즈 카레도시락',\n",
       " '돈까스 카레',\n",
       " '3종치즈 김치볶음밥',\n",
       " '스팸 김치볶음밥',\n",
       " '김치볶음밥',\n",
       " '스팸철판볶음밥',\n",
       " '소불고기 철판볶음밥',\n",
       " '소고기 육개장',\n",
       " '묵은지 김치찌개',\n",
       " '김치 부대찌개',\n",
       " '반찬 김치 부대찌개',\n",
       " '숯불직화구이 덮밥',\n",
       " '마파두부 덮밥',\n",
       " '왕카레돈까스덮밥',\n",
       " '새우돈까스 덮밥',\n",
       " '돈까스 덮밥',\n",
       " '소불고기 감초고추장 비빔밥',\n",
       " '시골제육 두부강된장 비빔밥',\n",
       " '참치야채 감초고추장',\n",
       " '두부강정 야채비빔밥',\n",
       " '열무 두부강된장 비빔밥',\n",
       " '튼튼도시락',\n",
       " '반찬 계란말이',\n",
       " '반찬 치즈계란말이',\n",
       " '반찬 묵은지김치찌개',\n",
       " '반찬 소고기육개장',\n",
       " '반찬 카레',\n",
       " '반찬 소불고기',\n",
       " '반찬 순살 고등어데리야끼',\n",
       " '반찬 치킨',\n",
       " '반찬 고기고기',\n",
       " '반찬 돈까스 도련님',\n",
       " '반찬 제육볶음',\n",
       " '반찬 토네이도 소세지',\n",
       " '반찬 반달돈까스',\n",
       " '리얼꿀 미니호떡',\n",
       " '바삭 군만두',\n",
       " '미니 찹쌀핫도그',\n",
       " '미니 찹쌀탕수육',\n",
       " '감자고로케',\n",
       " '케이준후라이',\n",
       " '고메이 크림 고로케',\n",
       " '두부연근튀김',\n",
       " '국물떡볶이 & 토네이도소세지 튀김set',\n",
       " '리얼 티라미수 찰떡',\n",
       " '국물 떡볶이',\n",
       " '토네이도 소세지 튀김세트',\n",
       " '리얼꿀 미니호떡',\n",
       " '후라이드 순살(중)',\n",
       " '후라이드 순살(소)_양념치킨소스',\n",
       " '후라이드 순살(소)_케이준소스',\n",
       " '찹쌀탕수육박스(대)',\n",
       " '찹쌀탕수육박스(중)',\n",
       " '오리지널 닭강정(중)',\n",
       " '오리지널 닭강정(소)',\n",
       " '치킨 BOX(대)',\n",
       " '치킨BOX(중)_양식소스',\n",
       " '치킨BOX(중)_타르타르소스',\n",
       " '오징어젓갈',\n",
       " '오이지무침',\n",
       " '한솥 두부강된장소스',\n",
       " '한솥 감초볶음고추장소스',\n",
       " '볶음김치',\n",
       " '김치',\n",
       " '무말랭이 무침',\n",
       " '한솥밥',\n",
       " '현미밥',\n",
       " '리얼 티라미수 찰떡',\n",
       " '아이스 애플망고']"
      ]
     },
     "execution_count": 40,
     "metadata": {},
     "output_type": "execute_result"
    }
   ],
   "source": [
    "menuList = []\n",
    "for i in menu:\n",
    "    menuList.append(i.text)\n",
    "menuList"
   ]
  },
  {
   "cell_type": "code",
   "execution_count": 41,
   "id": "41431c83",
   "metadata": {},
   "outputs": [
    {
     "data": {
      "text/plain": [
       "['4,900',\n",
       " '7,200',\n",
       " '6,300',\n",
       " '4,900',\n",
       " '4,600',\n",
       " '5,200',\n",
       " '5,900',\n",
       " '3,900',\n",
       " '10,000',\n",
       " '10,000',\n",
       " '7,000',\n",
       " '8,000',\n",
       " '5,800',\n",
       " '5,800',\n",
       " '6,200',\n",
       " '5,400',\n",
       " '4,200',\n",
       " '6,500',\n",
       " '5,000',\n",
       " '7,000',\n",
       " '4,200',\n",
       " '5,500',\n",
       " '4,500',\n",
       " '4,200',\n",
       " '4,100',\n",
       " '4,700',\n",
       " '8,200',\n",
       " '8,500',\n",
       " '8,500',\n",
       " '7,400',\n",
       " '6,800',\n",
       " '8,200',\n",
       " '7,000',\n",
       " '6,400',\n",
       " '5,600',\n",
       " '3,600',\n",
       " '5,500',\n",
       " '4,500',\n",
       " '3,800',\n",
       " '3,200',\n",
       " '3,000',\n",
       " '3,600',\n",
       " '4,100',\n",
       " '4,200',\n",
       " '4,800',\n",
       " '4,700',\n",
       " '3,900',\n",
       " '4,500',\n",
       " '4,500',\n",
       " '4,700',\n",
       " '4,500',\n",
       " '5,800',\n",
       " '4,500',\n",
       " '5,900',\n",
       " '5,000',\n",
       " '5,700',\n",
       " '3,900',\n",
       " '3,800',\n",
       " '5,000',\n",
       " '5,000',\n",
       " '3,200',\n",
       " '4,800',\n",
       " '4,300',\n",
       " '5,000',\n",
       " '2,500',\n",
       " '3,000',\n",
       " '4,000',\n",
       " '4,300',\n",
       " '2,600',\n",
       " '3,900',\n",
       " '3,600',\n",
       " '3,300',\n",
       " '3,200',\n",
       " '3,500',\n",
       " '3,100',\n",
       " '2,600',\n",
       " '2,600',\n",
       " '2,200',\n",
       " '2,000',\n",
       " '2,500',\n",
       " '2,200',\n",
       " '2,200',\n",
       " '1,500',\n",
       " '3,500',\n",
       " '3,000',\n",
       " '5,300',\n",
       " '1,500',\n",
       " '3,000',\n",
       " '2,900',\n",
       " '2,200',\n",
       " '7,000',\n",
       " '3,500',\n",
       " '3,500',\n",
       " '10,000',\n",
       " '5,000',\n",
       " '7,500',\n",
       " '2,900',\n",
       " '10,000',\n",
       " '5,000',\n",
       " '5,000',\n",
       " '400',\n",
       " '700',\n",
       " '1,800',\n",
       " '500',\n",
       " '400',\n",
       " '300',\n",
       " '300',\n",
       " '1,000',\n",
       " '1,700',\n",
       " '1,500',\n",
       " '1,500']"
      ]
     },
     "execution_count": 41,
     "metadata": {},
     "output_type": "execute_result"
    }
   ],
   "source": [
    "priceList = []\n",
    "for i in price:\n",
    "    priceList.append(i.text)\n",
    "priceList"
   ]
  },
  {
   "cell_type": "code",
   "execution_count": 42,
   "id": "7d761357",
   "metadata": {},
   "outputs": [
    {
     "data": {
      "text/plain": [
       "{'메뉴': ['행사 숯불직화구이 덮밥',\n",
       "  '행사 제육 김치 부대찌개 정식',\n",
       "  '행사 빅치킨마요 김치 부대찌개 정식',\n",
       "  '행사 돈까스도련님 고기고기',\n",
       "  '행사 동백',\n",
       "  '행사 새치 고기고기',\n",
       "  '행사 진달래',\n",
       "  '행사 스팸 김치볶음밥',\n",
       "  '매화(치킨, 연어구이)',\n",
       "  '매화(순살 고등어 간장구이)',\n",
       "  '진달래',\n",
       "  '개나리(순살 고등어 간장구이)',\n",
       "  '돈까스도련님고기고기',\n",
       "  '탕수육도련님고기고기',\n",
       "  '새치 고기고기',\n",
       "  '돈치 고기고기',\n",
       "  '고기고기',\n",
       "  '숯불직화구이',\n",
       "  '소불고기',\n",
       "  '메가치킨제육',\n",
       "  '칠리 찹쌀탕수육도련님',\n",
       "  '동백',\n",
       "  '치킨제육',\n",
       "  '돈까스도련님',\n",
       "  '제육볶음',\n",
       "  '돈치스팸 도시락',\n",
       "  '제육 김치찌개 정식',\n",
       "  '제육 김치 부대찌개 정식',\n",
       "  '돈치스팸 김치 부대찌개 정식',\n",
       "  '빅치킨마요 김치 부대찌개 정식',\n",
       "  '치킨마요 김치 부대찌개 정식',\n",
       "  '돈치스팸 김치찌개 정식',\n",
       "  '빅치킨마요 김치찌개 정식',\n",
       "  '치킨마요 김치찌개 정식',\n",
       "  '메가스팸마요',\n",
       "  '스팸마요',\n",
       "  '메가치킨마요',\n",
       "  '왕치킨마요',\n",
       "  '빅치킨마요',\n",
       "  '치킨마요',\n",
       "  '참치마요',\n",
       "  '돈치마요',\n",
       "  '치즈 카레도시락',\n",
       "  '돈까스 카레',\n",
       "  '3종치즈 김치볶음밥',\n",
       "  '스팸 김치볶음밥',\n",
       "  '김치볶음밥',\n",
       "  '스팸철판볶음밥',\n",
       "  '소불고기 철판볶음밥',\n",
       "  '소고기 육개장',\n",
       "  '묵은지 김치찌개',\n",
       "  '김치 부대찌개',\n",
       "  '반찬 김치 부대찌개',\n",
       "  '숯불직화구이 덮밥',\n",
       "  '마파두부 덮밥',\n",
       "  '왕카레돈까스덮밥',\n",
       "  '새우돈까스 덮밥',\n",
       "  '돈까스 덮밥',\n",
       "  '소불고기 감초고추장 비빔밥',\n",
       "  '시골제육 두부강된장 비빔밥',\n",
       "  '참치야채 감초고추장',\n",
       "  '두부강정 야채비빔밥',\n",
       "  '열무 두부강된장 비빔밥',\n",
       "  '튼튼도시락',\n",
       "  '반찬 계란말이',\n",
       "  '반찬 치즈계란말이',\n",
       "  '반찬 묵은지김치찌개',\n",
       "  '반찬 소고기육개장',\n",
       "  '반찬 카레',\n",
       "  '반찬 소불고기',\n",
       "  '반찬 순살 고등어데리야끼',\n",
       "  '반찬 치킨',\n",
       "  '반찬 고기고기',\n",
       "  '반찬 돈까스 도련님',\n",
       "  '반찬 제육볶음',\n",
       "  '반찬 토네이도 소세지',\n",
       "  '반찬 반달돈까스',\n",
       "  '리얼꿀 미니호떡',\n",
       "  '바삭 군만두',\n",
       "  '미니 찹쌀핫도그',\n",
       "  '미니 찹쌀탕수육',\n",
       "  '감자고로케',\n",
       "  '케이준후라이',\n",
       "  '고메이 크림 고로케',\n",
       "  '두부연근튀김',\n",
       "  '국물떡볶이 & 토네이도소세지 튀김set',\n",
       "  '리얼 티라미수 찰떡',\n",
       "  '국물 떡볶이',\n",
       "  '토네이도 소세지 튀김세트',\n",
       "  '리얼꿀 미니호떡',\n",
       "  '후라이드 순살(중)',\n",
       "  '후라이드 순살(소)_양념치킨소스',\n",
       "  '후라이드 순살(소)_케이준소스',\n",
       "  '찹쌀탕수육박스(대)',\n",
       "  '찹쌀탕수육박스(중)',\n",
       "  '오리지널 닭강정(중)',\n",
       "  '오리지널 닭강정(소)',\n",
       "  '치킨 BOX(대)',\n",
       "  '치킨BOX(중)_양식소스',\n",
       "  '치킨BOX(중)_타르타르소스',\n",
       "  '오징어젓갈',\n",
       "  '오이지무침',\n",
       "  '한솥 두부강된장소스',\n",
       "  '한솥 감초볶음고추장소스',\n",
       "  '볶음김치',\n",
       "  '김치',\n",
       "  '무말랭이 무침',\n",
       "  '한솥밥',\n",
       "  '현미밥',\n",
       "  '리얼 티라미수 찰떡',\n",
       "  '아이스 애플망고'],\n",
       " '가격': ['4,900',\n",
       "  '7,200',\n",
       "  '6,300',\n",
       "  '4,900',\n",
       "  '4,600',\n",
       "  '5,200',\n",
       "  '5,900',\n",
       "  '3,900',\n",
       "  '10,000',\n",
       "  '10,000',\n",
       "  '7,000',\n",
       "  '8,000',\n",
       "  '5,800',\n",
       "  '5,800',\n",
       "  '6,200',\n",
       "  '5,400',\n",
       "  '4,200',\n",
       "  '6,500',\n",
       "  '5,000',\n",
       "  '7,000',\n",
       "  '4,200',\n",
       "  '5,500',\n",
       "  '4,500',\n",
       "  '4,200',\n",
       "  '4,100',\n",
       "  '4,700',\n",
       "  '8,200',\n",
       "  '8,500',\n",
       "  '8,500',\n",
       "  '7,400',\n",
       "  '6,800',\n",
       "  '8,200',\n",
       "  '7,000',\n",
       "  '6,400',\n",
       "  '5,600',\n",
       "  '3,600',\n",
       "  '5,500',\n",
       "  '4,500',\n",
       "  '3,800',\n",
       "  '3,200',\n",
       "  '3,000',\n",
       "  '3,600',\n",
       "  '4,100',\n",
       "  '4,200',\n",
       "  '4,800',\n",
       "  '4,700',\n",
       "  '3,900',\n",
       "  '4,500',\n",
       "  '4,500',\n",
       "  '4,700',\n",
       "  '4,500',\n",
       "  '5,800',\n",
       "  '4,500',\n",
       "  '5,900',\n",
       "  '5,000',\n",
       "  '5,700',\n",
       "  '3,900',\n",
       "  '3,800',\n",
       "  '5,000',\n",
       "  '5,000',\n",
       "  '3,200',\n",
       "  '4,800',\n",
       "  '4,300',\n",
       "  '5,000',\n",
       "  '2,500',\n",
       "  '3,000',\n",
       "  '4,000',\n",
       "  '4,300',\n",
       "  '2,600',\n",
       "  '3,900',\n",
       "  '3,600',\n",
       "  '3,300',\n",
       "  '3,200',\n",
       "  '3,500',\n",
       "  '3,100',\n",
       "  '2,600',\n",
       "  '2,600',\n",
       "  '2,200',\n",
       "  '2,000',\n",
       "  '2,500',\n",
       "  '2,200',\n",
       "  '2,200',\n",
       "  '1,500',\n",
       "  '3,500',\n",
       "  '3,000',\n",
       "  '5,300',\n",
       "  '1,500',\n",
       "  '3,000',\n",
       "  '2,900',\n",
       "  '2,200',\n",
       "  '7,000',\n",
       "  '3,500',\n",
       "  '3,500',\n",
       "  '10,000',\n",
       "  '5,000',\n",
       "  '7,500',\n",
       "  '2,900',\n",
       "  '10,000',\n",
       "  '5,000',\n",
       "  '5,000',\n",
       "  '400',\n",
       "  '700',\n",
       "  '1,800',\n",
       "  '500',\n",
       "  '400',\n",
       "  '300',\n",
       "  '300',\n",
       "  '1,000',\n",
       "  '1,700',\n",
       "  '1,500',\n",
       "  '1,500']}"
      ]
     },
     "execution_count": 42,
     "metadata": {},
     "output_type": "execute_result"
    }
   ],
   "source": [
    "dic = {'메뉴':menuList,'가격':priceList}\n",
    "dic"
   ]
  },
  {
   "cell_type": "code",
   "execution_count": 43,
   "id": "3140a417",
   "metadata": {},
   "outputs": [],
   "source": [
    "import pandas as pd"
   ]
  },
  {
   "cell_type": "code",
   "execution_count": 44,
   "id": "ba412702",
   "metadata": {},
   "outputs": [
    {
     "data": {
      "text/html": [
       "<div>\n",
       "<style scoped>\n",
       "    .dataframe tbody tr th:only-of-type {\n",
       "        vertical-align: middle;\n",
       "    }\n",
       "\n",
       "    .dataframe tbody tr th {\n",
       "        vertical-align: top;\n",
       "    }\n",
       "\n",
       "    .dataframe thead th {\n",
       "        text-align: right;\n",
       "    }\n",
       "</style>\n",
       "<table border=\"1\" class=\"dataframe\">\n",
       "  <thead>\n",
       "    <tr style=\"text-align: right;\">\n",
       "      <th></th>\n",
       "      <th>메뉴</th>\n",
       "      <th>가격</th>\n",
       "    </tr>\n",
       "  </thead>\n",
       "  <tbody>\n",
       "    <tr>\n",
       "      <th>0</th>\n",
       "      <td>행사 숯불직화구이 덮밥</td>\n",
       "      <td>4,900</td>\n",
       "    </tr>\n",
       "    <tr>\n",
       "      <th>1</th>\n",
       "      <td>행사 제육 김치 부대찌개 정식</td>\n",
       "      <td>7,200</td>\n",
       "    </tr>\n",
       "    <tr>\n",
       "      <th>2</th>\n",
       "      <td>행사 빅치킨마요 김치 부대찌개 정식</td>\n",
       "      <td>6,300</td>\n",
       "    </tr>\n",
       "    <tr>\n",
       "      <th>3</th>\n",
       "      <td>행사 돈까스도련님 고기고기</td>\n",
       "      <td>4,900</td>\n",
       "    </tr>\n",
       "    <tr>\n",
       "      <th>4</th>\n",
       "      <td>행사 동백</td>\n",
       "      <td>4,600</td>\n",
       "    </tr>\n",
       "    <tr>\n",
       "      <th>...</th>\n",
       "      <td>...</td>\n",
       "      <td>...</td>\n",
       "    </tr>\n",
       "    <tr>\n",
       "      <th>106</th>\n",
       "      <td>무말랭이 무침</td>\n",
       "      <td>300</td>\n",
       "    </tr>\n",
       "    <tr>\n",
       "      <th>107</th>\n",
       "      <td>한솥밥</td>\n",
       "      <td>1,000</td>\n",
       "    </tr>\n",
       "    <tr>\n",
       "      <th>108</th>\n",
       "      <td>현미밥</td>\n",
       "      <td>1,700</td>\n",
       "    </tr>\n",
       "    <tr>\n",
       "      <th>109</th>\n",
       "      <td>리얼 티라미수 찰떡</td>\n",
       "      <td>1,500</td>\n",
       "    </tr>\n",
       "    <tr>\n",
       "      <th>110</th>\n",
       "      <td>아이스 애플망고</td>\n",
       "      <td>1,500</td>\n",
       "    </tr>\n",
       "  </tbody>\n",
       "</table>\n",
       "<p>111 rows × 2 columns</p>\n",
       "</div>"
      ],
      "text/plain": [
       "                      메뉴     가격\n",
       "0           행사 숯불직화구이 덮밥  4,900\n",
       "1       행사 제육 김치 부대찌개 정식  7,200\n",
       "2    행사 빅치킨마요 김치 부대찌개 정식  6,300\n",
       "3         행사 돈까스도련님 고기고기  4,900\n",
       "4                  행사 동백  4,600\n",
       "..                   ...    ...\n",
       "106              무말랭이 무침    300\n",
       "107                  한솥밥  1,000\n",
       "108                  현미밥  1,700\n",
       "109           리얼 티라미수 찰떡  1,500\n",
       "110             아이스 애플망고  1,500\n",
       "\n",
       "[111 rows x 2 columns]"
      ]
     },
     "execution_count": 44,
     "metadata": {},
     "output_type": "execute_result"
    }
   ],
   "source": [
    "dfMenu = pd.DataFrame(dic)\n",
    "dfMenu"
   ]
  },
  {
   "cell_type": "code",
   "execution_count": 45,
   "id": "c91e1c7d",
   "metadata": {},
   "outputs": [],
   "source": [
    "driver.quit()"
   ]
  }
 ],
 "metadata": {
  "kernelspec": {
   "display_name": "Python 3 (ipykernel)",
   "language": "python",
   "name": "python3"
  },
  "language_info": {
   "codemirror_mode": {
    "name": "ipython",
    "version": 3
   },
   "file_extension": ".py",
   "mimetype": "text/x-python",
   "name": "python",
   "nbconvert_exporter": "python",
   "pygments_lexer": "ipython3",
   "version": "3.9.7"
  }
 },
 "nbformat": 4,
 "nbformat_minor": 5
}
