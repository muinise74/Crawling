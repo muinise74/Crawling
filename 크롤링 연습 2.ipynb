{
 "cells": [
  {
   "cell_type": "markdown",
   "id": "1e0bb52a",
   "metadata": {},
   "source": [
    "## 공공 데이터 포털에서 제공하는 데이터 목록 가져오기"
   ]
  },
  {
   "cell_type": "code",
   "execution_count": 1,
   "id": "63cae73f",
   "metadata": {},
   "outputs": [],
   "source": [
    "from selenium import webdriver as wb\n",
    "from selenium.webdriver.common.keys import Keys\n",
    "import pandas as pd\n",
    "import time"
   ]
  },
  {
   "cell_type": "code",
   "execution_count": 2,
   "id": "3fba953e",
   "metadata": {},
   "outputs": [],
   "source": [
    "def DataOffering(a:int):\n",
    "    driver = wb.Chrome()\n",
    "    time.sleep(0.5)    \n",
    "    url = \"https://www.data.go.kr/tcs/dss/selectDataSetList.do?dType=FILE&keyword=&detailKeyword=&publicDataPk=&recmSe=&detailText=&relatedKeyword=&commaNotInData=&commaAndData=&commaOrData=&must_not=&tabId=&dataSetCoreTf=&coreDataNm=&sort=updtDt&relRadio=&orgFullName=&orgFilter=&org=&orgSearch=&currentPage=\"\n",
    "    url2 = \"&perPage=10&brm=&instt=&svcType=&kwrdArray=&extsn=&coreDataNmArray=&pblonsipScopeCode=\"\n",
    "    driver.get(url+str(a)+url2)\n",
    "    time.sleep(0.5)\n",
    "    data = driver.find_elements_by_css_selector('span.title')\n",
    "    offer = driver.find_elements_by_css_selector('div.info-data>p:nth-child(1)>span.data')\n",
    "    \n",
    "    dataList = []\n",
    "    offerList = []\n",
    "    for i in range(len(data)):\n",
    "        dataList.append(data[i].text)\n",
    "        offerList.append(offer[i].text)   \n",
    "    dic = {'제공기관' : offerList, '제공 Data':dataList}\n",
    "    dfData = pd.DataFrame(dic)\n",
    "    return dfData\n",
    "    driver.quit()    "
   ]
  },
  {
   "cell_type": "code",
   "execution_count": 8,
   "id": "2faca293",
   "metadata": {},
   "outputs": [
    {
     "name": "stderr",
     "output_type": "stream",
     "text": [
      "C:\\Users\\smhrd\\AppData\\Local\\Temp/ipykernel_13576/1578115593.py:8: DeprecationWarning: find_elements_by_* commands are deprecated. Please use find_elements() instead\n",
      "  data = driver.find_elements_by_css_selector('span.title')\n",
      "C:\\Users\\smhrd\\AppData\\Local\\Temp/ipykernel_13576/1578115593.py:9: DeprecationWarning: find_elements_by_* commands are deprecated. Please use find_elements() instead\n",
      "  offer = driver.find_elements_by_css_selector('div.info-data>p:nth-child(1)>span.data')\n"
     ]
    }
   ],
   "source": [
    "dfList = []\n",
    "for i in range(1,10):\n",
    "    dfList.append(DataOffering(i))"
   ]
  },
  {
   "cell_type": "code",
   "execution_count": 10,
   "id": "a474c8ee",
   "metadata": {},
   "outputs": [
    {
     "name": "stdout",
     "output_type": "stream",
     "text": [
      "       제공기관                         제공 Data\n",
      "0       국세청                   국세청_사업자현황_연령별\n",
      "1  한국산업단지공단   한국산업단지공단_공장등록현황통계_시도별 공장면적 현황\n",
      "2  한국산업단지공단    한국산업단지공단_공장등록현황통계_시도별 업종별 현황\n",
      "3  한국산업단지공단   한국산업단지공단_공장등록현황통계_시도별 공장규모 현황\n",
      "4  한국산업단지공단  한국산업단지공단_공장등록현황통계_시도별 용도지역별 현황\n",
      "5       국세청                    국세청_사업자현황_성별\n",
      "6  경상북도 구미시                 경상북도_구미시_축산농가현황\n",
      "7  한국산업단지공단      한국산업단지공단_공장등록현황통계_시도별 고용현황\n",
      "8       국세청                 국세청_사업자현황_존속연수별\n",
      "9  경기도 동두천시               경기도 동두천시_폐수배출업소현황\n",
      "        제공기관                         제공 Data\n",
      "0  서울특별시 강서구   서울특별시 강서구_전기자동차 및 전기이륜차 등록 대수\n",
      "1    한국문화정보원            한국문화정보원_문화산업활용데이터_2D\n",
      "2  광주광역시 광산구                  광주광역시_광산구_인구현황\n",
      "3  부산광역시 연제구        부산광역시 연제구_보호구역 내 교통단속카메라\n",
      "4  부산광역시 연제구                  부산광역시 연제구_보호구역\n",
      "5    경기도 성남시        경기도 성남시_판교 U-City 조명시설현황\n",
      "6    국민권익위원회  국민권익위원회_청렴교재 초등학교1~3학년 교사용 지도서\n",
      "7  광주광역시 광산구           광주광역시_광산구_재난피해(풍수) 현황\n",
      "8  광주광역시 광산구           광주광역시_광산구_재난피해(설해) 현황\n",
      "9  광주광역시 광산구        광주광역시_광산구_종합사회복지관 이용자 현황\n",
      "           제공기관                         제공 Data\n",
      "0       국민권익위원회  국민권익위원회_청렴교재 초등학교4~6학년 교사용 지도서\n",
      "1     광주광역시 광산구          광주광역시_광산구_노인복지관 이용자 현황\n",
      "2     광주광역시 광산구      광주광역시_광산구_광산구장애인복지관 이용자 현황\n",
      "3       국민권익위원회        국민권익위원회_청렴교재 중학교 교사용 지도서\n",
      "4     광주광역시 광산구  광주광역시_광산구_소방서 활동실적(인명구조 검색 조치)\n",
      "5  제주특별자치도 서귀포시    제주특별자치도 서귀포시_농업경영데이터(농가재배방법)\n",
      "6     광주광역시 광산구          광주광역시_광산구_소방서 활동실적(화재)\n",
      "7  제주특별자치도 서귀포시     제주특별자치도 서귀포시_농업경영데이터(농가판매량)\n",
      "8     광주광역시 광산구      광주광역시_광산구_재난대응용 배수펌프장 시설현황\n",
      "9       한국문화정보원                한국문화정보원_기타 형태 문양\n",
      "        제공기관                              제공 Data\n",
      "0  광주광역시 광산구                      광주광역시_광산구_방재시설물\n",
      "1    국민권익위원회            국민권익위원회_청렴교재 고등학교 교사용 지도서\n",
      "2  광주광역시 광산구                광주광역시_광산구_민방위 경보시설 현황\n",
      "3  광주광역시 광산구                광주광역시_광산구_민방위 급수시설 현황\n",
      "4  광주광역시 광산구       광주광역시_광산구_장기미집행 국토계획(공공문화체육시설)\n",
      "5  광주광역시 광산구           광주광역시_광산구_장기미집행 국토계획(교통시설)\n",
      "6  한국문화예술위원회  한국문화예술위원회_예술지원정책에 대한 인식과 미래수요 조사 연구\n",
      "7   경상남도 거제시                     경상남도 거제시_외국인주민현황\n",
      "8   전라남도 순천시         전라남도 순천시_농산물산지유통센터 등 유통시설 현황\n",
      "9   전라남도 순천시              전라남도 순천시_상하수도시설현황(정수시설)\n",
      "            제공기관                          제공 Data\n",
      "0        국민권익위원회                국민권익위원회_행정심판 처리현황\n",
      "1        경기도 김포시                  경기도_김포시_가금류농장현황\n",
      "2  농촌진흥청 국립농업과학원      농촌진흥청 국립농업과학원_농업기상_기상정보 보고서\n",
      "3       충청북도 제천시                충청북도 제천시_행정사사무소현황\n",
      "4  농촌진흥청 국립농업과학원  농촌진흥청 국립농업과학원_농업기상_농업용 미래상세 기후도\n",
      "5       충청북도 제천시              충청북도 제천시_부동산중개업소 현황\n",
      "6      광주광역시 광산구       광주광역시 광산구_광산구평생학습포털(콘텐츠관리)\n",
      "7      광주광역시 광산구        광주광역시 광산구_광산구평생학습포털(교육관리)\n",
      "8      광주광역시 광산구           광주광역시_광산구_공유재산 현황(입목죽)\n",
      "9         도로교통공단        도로교통공단_TBN광주교통방송 터널수신상태현황\n",
      "         제공기관                       제공 Data\n",
      "0      도로교통공단   도로교통공단_TBN광주교통방송 교차로등수신상태현황\n",
      "1      한국부동산원        한국부동산원_연구원 연구자료 및 정보현황\n",
      "2       광주광역시                광주광역시_도로명주소 정보\n",
      "3    부산광역시 북구             부산광역시 북구_통신판매업 현황\n",
      "4    전라남도 광양시              전라남도_광양시_의회 의안정보\n",
      "5       농촌진흥청                 농촌진흥청_생육자료_마늘\n",
      "6       서울특별시       서울특별시_자치구별 연료별 자동차 등록현황\n",
      "7  한국보훈복지의료공단  한국보훈복지의료공단_요양병원입원환자통계_중앙보훈병원\n",
      "8       농촌진흥청                 농촌진흥청_생육자료_양파\n",
      "9     경기도 안산시                  경기도 안산시_관광호텔\n",
      "        제공기관                           제공 Data\n",
      "0   대전광역시 동구               대전광역시 동구 장애인복지시설 현황\n",
      "1  부산광역시 동래구               부산광역시_동래구_이륜차 등록 현황\n",
      "2  부산광역시 동래구                 부산광역시_동래구_전통사찰 현황\n",
      "3  서울특별시 송파구                   서울특별시 송파구_야간 조도\n",
      "4  서울특별시 강동구               서울특별시_강동구_여성복지시설 현황\n",
      "5   전라북도 무주군                   전라북도_무주군_부서정보현황\n",
      "6   광주광역시 서구               광주광역시 서구_담배소매인지정 현황\n",
      "7   경상북도 봉화군  경상북도 봉화군_봉화사랑상품권 가맹점의 상품권 매출 데이터\n",
      "8   충청북도 제천시                 충청북도 제천시_공중위생업소현황\n",
      "9    경기도 수원시           경기도 수원시_5세 계급별 인구현황(월별)\n",
      "            제공기관                                제공 Data\n",
      "0       한국언론진흥재단             한국언론진흥재단_뉴스빅데이터_메타데이터_메타버스\n",
      "1        경기도 수원시                     경기도_수원시_지역아동센터시설현황\n",
      "2        경기도 안산시                       경기도 안산시_횡단보도위치정보\n",
      "3        경기도 안산시                       경기도 안산시_공공체육시설정보\n",
      "4       충청북도 제천시                        충청북도 제천시_축산농장정보\n",
      "5        경기도 안산시                      경기도 안산시_지역아동센터 정보\n",
      "6        경기도 안산시                    경기도 안산시_노인및독거노인 인구수\n",
      "7        경기도 안산시                       경기도 안산시_노인복지시설현황\n",
      "8  농촌진흥청 국립농업과학원  농촌진흥청 국립농업과학원_농업기상 평년대비 현재기상 데이터 분석결과\n",
      "9        경기도 안산시                        경기도 안산시_노동조합 현황\n",
      "       제공기관                   제공 Data\n",
      "0  충청북도 제천시           충청북도 제천시_의약업소현황\n",
      "1     인천광역시         인천광역시_도로 내 IMU 센서\n",
      "2   경기도 안산시              경기도 안산시_건물정보\n",
      "3     인천광역시            인천광역시_도로 주변 습도\n",
      "4  충청북도 제천시      충청북도 제천시_민방위비상급수시설현황\n",
      "5  고양도시관리공사      고양도시관리공사_정보화사업 추진 현황\n",
      "6  충청북도 제천시         충청북도 제천시_건축사사무소현황\n",
      "7  한국언론진흥재단  한국언론진흥재단_뉴스빅데이터_메타데이터_게임\n",
      "8  충청북도 제천시             충청북도 제천시_공장현황\n",
      "9      경상남도         경상남도_경남도립거창대학_자격증\n"
     ]
    }
   ],
   "source": [
    "for i in range(9):\n",
    "    print(dfList[i])"
   ]
  }
 ],
 "metadata": {
  "kernelspec": {
   "display_name": "Python 3 (ipykernel)",
   "language": "python",
   "name": "python3"
  },
  "language_info": {
   "codemirror_mode": {
    "name": "ipython",
    "version": 3
   },
   "file_extension": ".py",
   "mimetype": "text/x-python",
   "name": "python",
   "nbconvert_exporter": "python",
   "pygments_lexer": "ipython3",
   "version": "3.9.7"
  }
 },
 "nbformat": 4,
 "nbformat_minor": 5
}
